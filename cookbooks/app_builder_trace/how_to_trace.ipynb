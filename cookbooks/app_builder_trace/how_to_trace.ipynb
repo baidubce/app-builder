{
 "cells": [
  {
   "cell_type": "markdown",
   "metadata": {},
   "source": [
    "# Appbuilder-sdk trace \n",
    "\n",
    "该cookbook将介绍如何使用Appbuilder-sdk trace框架对Appbuilder-sdk框架进行跟踪\n",
    "\n",
    "## 设置环境变量"
   ]
  },
  {
   "cell_type": "code",
   "execution_count": 1,
   "metadata": {},
   "outputs": [],
   "source": [
    "import os\n",
    "\n",
    "os.environ[\"APPBUILDER_SDK_TRACER_PHOENIX\"] = \"true\"\n",
    "os.environ[\"APPBUILDER_SDK_TRACER_CONSOLE\"] = \"true\""
   ]
  },
  {
   "cell_type": "markdown",
   "metadata": {},
   "source": [
    "## 加载tracer_provider并为Appbuilder-SDK打桩"
   ]
  },
  {
   "cell_type": "code",
   "execution_count": 2,
   "metadata": {},
   "outputs": [],
   "source": [
    "# 加载tracer_provider\n",
    "from appbuilder.trace import create_tracer_provider, AppbuilderInstrumentor\n",
    "tracer_provider = create_tracer_provider()\n",
    "\n",
    "# 启动AppbuilderInstrumentor打桩器\n",
    "instrumentor=AppbuilderInstrumentor()\n",
    "instrumentor.instrument(tracer_provider=tracer_provider)"
   ]
  },
  {
   "cell_type": "markdown",
   "metadata": {},
   "source": [
    "## 启动phoenix可视化界面"
   ]
  },
  {
   "cell_type": "code",
   "execution_count": 3,
   "metadata": {},
   "outputs": [
    {
     "name": "stderr",
     "output_type": "stream",
     "text": [
      "/Library/Frameworks/Python.framework/Versions/3.9/lib/python3.9/site-packages/tqdm/auto.py:21: TqdmWarning: IProgress not found. Please update jupyter and ipywidgets. See https://ipywidgets.readthedocs.io/en/stable/user_install.html\n",
      "  from .autonotebook import tqdm as notebook_tqdm\n"
     ]
    },
    {
     "name": "stdout",
     "output_type": "stream",
     "text": [
      "🌍 To view the Phoenix app in your browser, visit http://localhost:6006/\n",
      "📖 For more information on how to use Phoenix, check out https://docs.arize.com/phoenix\n",
      "Interrupted by user\n"
     ]
    }
   ],
   "source": [
    "from appbuilder.trace import tracer_launch\n",
    "\n",
    "# 不添加参数，启动Phoenix，无结束时间\n",
    "tracer_launch()\n",
    "\n",
    "# 添加参数，启动Phoenix，结束时间为1小时\n",
    "# tracer_launch(worktime=3600)\n",
    "# 停止程序运行通过ctrl+c控制"
   ]
  },
  {
   "cell_type": "markdown",
   "metadata": {},
   "source": [
    "## 配置并运行运行你的Apppbuilder-SDK"
   ]
  },
  {
   "cell_type": "code",
   "execution_count": 5,
   "metadata": {},
   "outputs": [
    {
     "name": "stdout",
     "output_type": "stream",
     "text": [
      "{\n",
      "    \"name\": \"run(CompletionBaseComponent)\",\n",
      "    \"context\": {\n",
      "        \"trace_id\": \"0x9b48c538c9de1526183f57f2e09bc0ba\",\n",
      "        \"span_id\": \"0x6ad4184375a76c0d\",\n",
      "        \"trace_state\": \"[]\"\n",
      "    },\n",
      "    \"kind\": \"SpanKind.INTERNAL\",\n",
      "    \"parent_id\": \"0x430be8fde560e512\",\n",
      "    \"start_time\": \"2024-06-27T07:25:32.640260Z\",\n",
      "    \"end_time\": \"2024-06-27T07:25:37.402442Z\",\n",
      "    \"status\": {\n",
      "        \"status_code\": \"UNSET\"\n",
      "    },\n",
      "    \"attributes\": {\n",
      "        \"time.cost-time\": \"4.761625051498413s\",\n",
      "        \"input.id\": \"fb4e56ff-9c19-4442-b3a8-a3620d342d41\",\n",
      "        \"input.Message-name\": \"msg\",\n",
      "        \"input.Message-type\": \"str\",\n",
      "        \"input.value.id\": \"fb4e56ff-9c19-4442-b3a8-a3620d342d41\",\n",
      "        \"input.value.Message-name\": \"msg\",\n",
      "        \"input.value.Message-type\": \"str\",\n",
      "        \"input.value.value\": \"\\u4f60\\u597d\\uff0c\\u5c0f\\u660e\\uff0c\\u6211\\u662f\\u673a\\u5668\\u4eba\\uff0c\\u673a\\u5668\\u4eba\\u662f\\u4e00\\u4e2a\\u804a\\u5929\\u673a\\u5668\\u4eba\\uff0c\\u6211\\u53ef\\u4ee5\\u804a\\u5929\\uff0c\\u4f60\\u53ef\\u4ee5\\u95ee\\u6211\\u4f60\\u597d\\u5417\\uff1f\\u3002\",\n",
      "        \"tips\": \"\\u6ce8\\u610f:\\u82e5\\u8f93\\u5165\\u4e3a\\u9ed8\\u8ba4\\u503c\\uff0c\\u5219\\u4e0d\\u8bb0\\u5f55\",\n",
      "        \"output.id\": \"eed2741a-aa11-403b-af4f-e199550a0545\",\n",
      "        \"output.Message-name\": \"msg\",\n",
      "        \"output.Message-type\": \"dict\",\n",
      "        \"output.value\": \"\\u4f60\\u597d\\uff0c\\u673a\\u5668\\u4eba\\u3002\\u6211\\u5f88\\u597d\\uff0c\\u8c22\\u8c22\\u5173\\u5fc3\\u3002\\u4f60\\u4f5c\\u4e3a\\u4e00\\u4e2a\\u804a\\u5929\\u673a\\u5668\\u4eba\\uff0c\\u6709\\u4ec0\\u4e48\\u7279\\u522b\\u7684\\u529f\\u80fd\\u6216\\u8005\\u80fd\\u63d0\\u4f9b\\u4ec0\\u4e48\\u6837\\u7684\\u5e2e\\u52a9\\u5417\\uff1f\\u53e6\\u5916\\uff0c\\u6211\\u4e5f\\u53ef\\u4ee5\\u95ee\\u5019\\u4f60\\u201c\\u4f60\\u597d\\u5417\\uff1f\\u201d\\u3002\",\n",
      "        \"llm.token_count.prompt\": 22,\n",
      "        \"llm.token_count.completion\": 36,\n",
      "        \"llm.token_count.total\": 58,\n",
      "        \"openinference.span.kind\": \"llm\"\n",
      "    },\n",
      "    \"events\": [],\n",
      "    \"links\": [],\n",
      "    \"resource\": {\n",
      "        \"attributes\": {\n",
      "            \"telemetry.sdk.language\": \"python\",\n",
      "            \"telemetry.sdk.name\": \"opentelemetry\",\n",
      "            \"telemetry.sdk.version\": \"1.25.0\",\n",
      "            \"service.name\": \"unknown_service\"\n",
      "        },\n",
      "        \"schema_url\": \"\"\n",
      "    }\n",
      "}\n",
      "{\n",
      "    \"name\": \"run(Playground)\",\n",
      "    \"context\": {\n",
      "        \"trace_id\": \"0x9b48c538c9de1526183f57f2e09bc0ba\",\n",
      "        \"span_id\": \"0x430be8fde560e512\",\n",
      "        \"trace_state\": \"[]\"\n",
      "    },\n",
      "    \"kind\": \"SpanKind.INTERNAL\",\n",
      "    \"parent_id\": null,\n",
      "    \"start_time\": \"2024-06-27T07:25:32.640026Z\",\n",
      "    \"end_time\": \"2024-06-27T07:25:37.411931Z\",\n",
      "    \"status\": {\n",
      "        \"status_code\": \"UNSET\"\n",
      "    },\n",
      "    \"attributes\": {\n",
      "        \"time.cost-time\": \"4.771635055541992s\",\n",
      "        \"openinference.span.kind\": \"chain\",\n",
      "        \"input.id\": \"fb4e56ff-9c19-4442-b3a8-a3620d342d41\",\n",
      "        \"input.Message-name\": \"msg\",\n",
      "        \"input.Message-type\": \"dict\",\n",
      "        \"input.value.id\": \"fb4e56ff-9c19-4442-b3a8-a3620d342d41\",\n",
      "        \"input.value.Message-name\": \"msg\",\n",
      "        \"input.value.Message-type\": \"dict\",\n",
      "        \"input.value.value.name\": \"\\u5c0f\\u660e\",\n",
      "        \"input.value.value.bot_name\": \"\\u673a\\u5668\\u4eba\",\n",
      "        \"input.value.value.bot_type\": \"\\u804a\\u5929\\u673a\\u5668\\u4eba\",\n",
      "        \"input.value.value.bot_function\": \"\\u804a\\u5929\",\n",
      "        \"input.value.value.bot_question\": \"\\u4f60\\u597d\\u5417\\uff1f\",\n",
      "        \"tips\": \"\\u6ce8\\u610f:\\u82e5\\u8f93\\u5165\\u4e3a\\u9ed8\\u8ba4\\u503c\\uff0c\\u5219\\u4e0d\\u8bb0\\u5f55\",\n",
      "        \"output.id\": \"eed2741a-aa11-403b-af4f-e199550a0545\",\n",
      "        \"output.Message-name\": \"msg\",\n",
      "        \"output.Message-type\": \"dict\",\n",
      "        \"output.value\": \"\\u4f60\\u597d\\uff0c\\u673a\\u5668\\u4eba\\u3002\\u6211\\u5f88\\u597d\\uff0c\\u8c22\\u8c22\\u5173\\u5fc3\\u3002\\u4f60\\u4f5c\\u4e3a\\u4e00\\u4e2a\\u804a\\u5929\\u673a\\u5668\\u4eba\\uff0c\\u6709\\u4ec0\\u4e48\\u7279\\u522b\\u7684\\u529f\\u80fd\\u6216\\u8005\\u80fd\\u63d0\\u4f9b\\u4ec0\\u4e48\\u6837\\u7684\\u5e2e\\u52a9\\u5417\\uff1f\\u53e6\\u5916\\uff0c\\u6211\\u4e5f\\u53ef\\u4ee5\\u95ee\\u5019\\u4f60\\u201c\\u4f60\\u597d\\u5417\\uff1f\\u201d\\u3002\",\n",
      "        \"llm.token_count.prompt\": 0,\n",
      "        \"llm.token_count.completion\": 0,\n",
      "        \"llm.token_count.total\": 0\n",
      "    },\n",
      "    \"events\": [],\n",
      "    \"links\": [],\n",
      "    \"resource\": {\n",
      "        \"attributes\": {\n",
      "            \"telemetry.sdk.language\": \"python\",\n",
      "            \"telemetry.sdk.name\": \"opentelemetry\",\n",
      "            \"telemetry.sdk.version\": \"1.25.0\",\n",
      "            \"service.name\": \"unknown_service\"\n",
      "        },\n",
      "        \"schema_url\": \"\"\n",
      "    }\n",
      "}\n"
     ]
    }
   ],
   "source": [
    "import appbuilder\n",
    "os.environ[\"APPBUILDER_TOKEN\"] = \"bce-v3/ALTAK-RPJR9XSOVFl6mb5GxHbfU/072be74731e368d8bbb628a8941ec50aaeba01cd\"\n",
    "play = appbuilder.Playground(prompt_template=\"你好，{name}，我是{bot_name}，{bot_name}是一个{bot_type}，我可以{bot_function}，你可以问我{bot_question}。\", model='eb-4')\n",
    "msg = appbuilder.Message({\n",
    "            \"name\": \"小明\",\n",
    "            \"bot_name\": \"机器人\",\n",
    "            \"bot_type\": \"聊天机器人\",\n",
    "            \"bot_function\": \"聊天\",\n",
    "            \"bot_question\": \"你好吗？\"\n",
    "        })\n",
    "\n",
    "answer = play.run(message=msg, stream=False, temperature=1)\n"
   ]
  },
  {
   "cell_type": "markdown",
   "metadata": {},
   "source": [
    "将在控制输出跟踪信息\n",
    "同时在phoenix可视化界面展示跟踪信息\n",
    "![phoenix可视化展示](https://bj.bcebos.com/v1/appbuilder-sdk-components/phoenix.png?authorization=bce-auth-v1%2FALTAKGa8m4qCUasgoljdEDAzLm%2F2024-06-27T07%3A45%3A01Z%2F-1%2Fhost%2Fdb0d8c7ad1d0060c799a9f76f83b233fd972b94af10f3ef282a0f8723225a236)"
   ]
  }
 ],
 "metadata": {
  "kernelspec": {
   "display_name": "Python 3",
   "language": "python",
   "name": "python3"
  },
  "language_info": {
   "codemirror_mode": {
    "name": "ipython",
    "version": 3
   },
   "file_extension": ".py",
   "mimetype": "text/x-python",
   "name": "python",
   "nbconvert_exporter": "python",
   "pygments_lexer": "ipython3",
   "version": "3.9.12"
  }
 },
 "nbformat": 4,
 "nbformat_minor": 2
}
