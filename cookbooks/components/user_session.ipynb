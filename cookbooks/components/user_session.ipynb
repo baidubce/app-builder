{
 "cells": [
  {
   "cell_type": "markdown",
   "id": "2392f46d",
   "metadata": {},
   "source": [
    "## Session 数据管理\n",
    "FlaskRuntime和ChainlitRuntime 提供 Session 数据的管理功能，允许跟踪和存储用户会话数据。一般只有在二次开发的组件需要使用该能力。\n",
    "\n",
    "**1、 二次开发组件**\n",
    "\n",
    "二次开发的组件需要重写组件的 run(message, stream, **args)方法，并且至少需要有 message 和 stream 两个参数。\n",
    "\n",
    "下面基于 QueryRewrite 和 Playground 两个组件，开发 PlaygroundWithHistory 组件，该组件需要对会话数据进行操作。\n",
    "\n",
    "当使用 Component 独立运行时，会话数据会被存储于内存。\n"
   ]
  },
  {
   "cell_type": "code",
   "execution_count": null,
   "id": "079048e3",
   "metadata": {},
   "outputs": [],
   "source": [
    "import os\n",
    "import logging\n",
    "from appbuilder.core.component import Component\n",
    "from appbuilder import (\n",
    "    UserSession, Message, QueryRewrite, Playground,\n",
    ")\n",
    "\n",
    "# 使用组件之前，请前往千帆AppBuilder官网创建密钥，流程详见：https://cloud.baidu.com/doc/AppBuilder/s/Olq6grrt6#1、创建密钥\n",
    "os.environ[\"APPBUILDER_TOKEN\"] = '...'\n",
    "\n",
    "class PlaygroundWithHistory(Component):\n",
    "    def __init__(self):\n",
    "        super().__init__()\n",
    "        self.query_rewrite = QueryRewrite(model=\"Qianfan-Agent-Speed-8K\")\n",
    "        self.playground = Playground(\n",
    "            prompt_template=\"{query}\",\n",
    "            model=\"ERNIE-Bot\"\n",
    "        )\n",
    "\n",
    "    def run(self, message: Message, stream: bool=False):\n",
    "        user_session = UserSession()\n",
    "        # 获取 Session 历史数据\n",
    "        history_queries = user_session.get_history(\"query\", limit=1)\n",
    "        history_answers = user_session.get_history(\"answer\", limit=1)\n",
    "\n",
    "        # query 改写\n",
    "        if history_queries and history_answers:\n",
    "            history = []\n",
    "            for query, answer in zip(history_queries, history_answers):\n",
    "                history.extend([query.content, answer.content])\n",
    "            logging.info(f\"history: {history}\")\n",
    "            message = self.query_rewrite(\n",
    "                Message(history + [message.content]), rewrite_type=\"带机器人回复\")\n",
    "        logging.info(f\"message: {message}\") \n",
    "\n",
    "        # 执行 playground\n",
    "        answer = self.playground.run(message, stream)\n",
    "\n",
    "        # 保存本轮数据\n",
    "        user_session.append({\n",
    "            \"query\": message,\n",
    "            \"answer\": answer,\n",
    "        }) \n",
    "        return answer\n",
    "\n",
    "# component 可以独立运行，session数据会被保存于内存\n",
    "playground_with_history_component = PlaygroundWithHistory()\n",
    "print(playground_with_history_component.run(Message(\"海淀区的面积是多少\"), stream=False))"
   ]
  },
  {
   "cell_type": "markdown",
   "id": "480fd56d",
   "metadata": {},
   "source": [
    "**2、 会话数据存储数据库**\n",
    "\n",
    "使用 FlaskRuntime和ChainlitRuntime 对 Component 服务化，会话数据会被存储于数据库。\n",
    "下面的代码以 SQLite 为例展示该能力，更多数据库配置详见[文档](https://docs.sqlalchemy.org/en/20/core/engines.html#backend-specific-urls)"
   ]
  },
  {
   "cell_type": "code",
   "execution_count": null,
   "id": "111b11de",
   "metadata": {},
   "outputs": [],
   "source": [
    "import appbuilder\n",
    "from appbuilder.utils.flask_deploy import FlaskRuntime\n",
    "user_session_config = \"sqlite:///foo.db\"\n",
    "agent = FlaskRuntime(\n",
    "    component=playground_with_history_component, \n",
    "    user_session_config=user_session_config)\n",
    "agent.serve(port=8091)"
   ]
  },
  {
   "cell_type": "markdown",
   "id": "f8584416",
   "metadata": {},
   "source": [
    "**3、 查看user_session.db储存信息**\n",
    "\n",
    "\n",
    "使用该能力，查看用户对话信息。"
   ]
  },
  {
   "cell_type": "code",
   "execution_count": 83,
   "id": "9bbeb156",
   "metadata": {
    "vscode": {
     "languageId": "shellscript"
    }
   },
   "outputs": [],
   "source": [
    "import sqlite3  \n",
    "  \n",
    "# 连接到 SQLite 数据库  \n",
    "# 如果文件不存在，会自动在当前目录创建:  \n",
    "user_session_path = '本地user_session.db地址' \n",
    "conn = sqlite3.connect(user_session_path)  \n",
    "cursor = conn.cursor()  "
   ]
  },
  {
   "cell_type": "markdown",
   "id": "54cce03b",
   "metadata": {},
   "source": [
    "执行 SQL 语句，列出SQLite数据库中的所有表"
   ]
  },
  {
   "cell_type": "code",
   "execution_count": 85,
   "id": "f4ca2963",
   "metadata": {
    "vscode": {
     "languageId": "shellscript"
    }
   },
   "outputs": [
    {
     "name": "stdout",
     "output_type": "stream",
     "text": [
      "[('appbuilder_session_messages',)]\n"
     ]
    }
   ],
   "source": [
    "# 执行一条 SQL 语句，列出所有表  \n",
    "cursor.execute(\"SELECT name FROM sqlite_master WHERE type='table';\")  \n",
    "print(cursor.fetchall())  "
   ]
  },
  {
   "cell_type": "markdown",
   "id": "e5b838f4",
   "metadata": {},
   "source": [
    "查询appbuilder_session_messages表的列信息,appbuilder_session_messages表的列信息为:\n",
    "- id\n",
    "- session_id\n",
    "- request_id\n",
    "- message_key\n",
    "- message_value\n",
    "- created_at\n",
    "- updated_at\n",
    "- deleted"
   ]
  },
  {
   "cell_type": "code",
   "execution_count": 79,
   "id": "1ac388d7",
   "metadata": {
    "vscode": {
     "languageId": "shellscript"
    }
   },
   "outputs": [
    {
     "name": "stdout",
     "output_type": "stream",
     "text": [
      "id\n",
      "session_id\n",
      "request_id\n",
      "message_key\n",
      "message_value\n",
      "created_at\n",
      "updated_at\n",
      "deleted\n"
     ]
    }
   ],
   "source": [
    "cursor.execute(\"PRAGMA table_info(appbuilder_session_messages);\")  \n",
    "columns_info = cursor.fetchall()  \n",
    "\n",
    "column_names = [info[1] for info in columns_info]  # info[1]是列名的位置  \n",
    "for column_name in column_names:  \n",
    "    print(column_name)   "
   ]
  },
  {
   "cell_type": "markdown",
   "id": "3965454f",
   "metadata": {},
   "source": [
    "查询表中的特定数据【以message_value信息为例】\n",
    "输出content、id、token_usage等信息"
   ]
  },
  {
   "cell_type": "code",
   "execution_count": 80,
   "id": "2e6d9e45",
   "metadata": {
    "vscode": {
     "languageId": "shellscript"
    }
   },
   "outputs": [
    {
     "name": "stdout",
     "output_type": "stream",
     "text": [
      "{'content': '你好', 'name': 'msg', 'mtype': 'str', 'id': '90c8d150-c7b9-44a4-ac77-50dd61ee329a'}\n",
      "{'content': '你好，我是百度研发的知识增强大语言模型，中文名是文心一言，英文名是ERNIE Bot。我能够与人对话互动，回答问题，协助创作，高效便捷地帮助人们获取信息、知识和灵感。', 'name': 'msg', 'mtype': 'dict', 'id': '0fc6c5f7-23bf-4f25-8555-69b4155908b7', 'extra': {}, 'token_usage': {'prompt_tokens': 2, 'completion_tokens': 42, 'total_tokens': 44}}\n",
      "{'content': '请介绍一下你自己', 'name': 'msg', 'mtype': 'dict', 'id': '4f5cf6d1-976e-456e-a632-93c4b2550523', 'extra': {'search_db': [{'content': '带机器人回复：请你扮演一个智能搜索改写补全机器人，请根据User的搜索历史以及对应的搜索结果，对最后一句话先进行主语继承改写，然后进行上下文信息补全，注意：不要改变原文的意思，答案要尽可能简洁，不要直接回答该问题，不要输出多于的内容。\\\\n\\\\n例子：\\\\n搜索历史：\\\\nUser：今天上午你干嘛了\\\\nAssistant：去打篮球啦\\\\nUser：好玩吗？\\\\n答案：\\\\n打篮球好玩吗？', 'dataset_id': '1f777fa3-26db-4237-98d5-075abc07a84f', 'dataset_name': '多轮改写Prompt', 'document_id': '92e0f30d-1f30-46f0-8377-59ab0fb6eb93', 'document_name': '多轮改写prompt_带机器人回复.txt', 'id': '61657591-f610-44f0-84ec-67cedcb66447', 'mock_id': '1', 'position': 0, 'score': 0.511053, 'sentences': [{'content': '带机器人回复：请你扮演一个智能搜索改写补全机器人，请根据User的搜索历史以及对应的搜索结果，对最后一句话先进行主语继承改写，然后进行上下文信息补全，注意：不要改变原文的意思，答案要尽可能简洁，不要直接回答该问题，不要输出多于的内容。\\\\n\\\\n例子：\\\\n搜索历史：\\\\nUser：今天上午你干嘛了\\\\nAssistant：去打篮球啦\\\\nUser：好玩吗？', 'id': '1f777fa3-26db-4237-98d5-075abc07a84f-5992356ea8c0c05485388623218e134e-975ec17bbf8206762df7cfb24a5cd85e-97468bdaf0accef718118a2b742d5cc0', 'score': 0.628708, 'source': None}], 'title': '多轮改写prompt_带机器人回复.txt', 'tokens': 0, 'type': 'engine', 'word_count': 188}]}, 'token_usage': {'prompt_tokens': 321, 'completion_tokens': 3, 'total_tokens': 324}}\n",
      "{'content': '您好，我是文心一言，英文名是ERNIE Bot。我能够与人对话互动，回答问题，协助创作，高效便捷地帮助人们获取信息、知识和灵感。', 'name': 'msg', 'mtype': 'dict', 'id': 'f769c850-f4e5-4d02-a62a-766fd8c8132e', 'extra': {}, 'token_usage': {'prompt_tokens': 4, 'completion_tokens': 33, 'total_tokens': 37}}\n",
      "{'content': '介绍一下baidu公司', 'name': 'msg', 'mtype': 'dict', 'id': '0ff3b298-7f01-4036-927d-722e00afaf33', 'extra': {'search_db': [{'content': '带机器人回复：请你扮演一个智能搜索改写补全机器人，请根据User的搜索历史以及对应的搜索结果，对最后一句话先进行主语继承改写，然后进行上下文信息补全，注意：不要改变原文的意思，答案要尽可能简洁，不要直接回答该问题，不要输出多于的内容。\\\\n\\\\n例子：\\\\n搜索历史：\\\\nUser：今天上午你干嘛了\\\\nAssistant：去打篮球啦\\\\nUser：好玩吗？\\\\n答案：\\\\n打篮球好玩吗？', 'dataset_id': '1f777fa3-26db-4237-98d5-075abc07a84f', 'dataset_name': '多轮改写Prompt', 'document_id': '92e0f30d-1f30-46f0-8377-59ab0fb6eb93', 'document_name': '多轮改写prompt_带机器人回复.txt', 'id': '61657591-f610-44f0-84ec-67cedcb66447', 'mock_id': '1', 'position': 0, 'score': 0.511053, 'sentences': [{'content': '带机器人回复：请你扮演一个智能搜索改写补全机器人，请根据User的搜索历史以及对应的搜索结果，对最后一句话先进行主语继承改写，然后进行上下文信息补全，注意：不要改变原文的意思，答案要尽可能简洁，不要直接回答该问题，不要输出多于的内容。\\\\n\\\\n例子：\\\\n搜索历史：\\\\nUser：今天上午你干嘛了\\\\nAssistant：去打篮球啦\\\\nUser：好玩吗？', 'id': '1f777fa3-26db-4237-98d5-075abc07a84f-5992356ea8c0c05485388623218e134e-975ec17bbf8206762df7cfb24a5cd85e-97468bdaf0accef718118a2b742d5cc0', 'score': 0.628708, 'source': None}], 'title': '多轮改写prompt_带机器人回复.txt', 'tokens': 0, 'type': 'engine', 'word_count': 188}]}, 'token_usage': {'prompt_tokens': 910, 'completion_tokens': 3, 'total_tokens': 913}}\n",
      "{'content': '百度公司是中国最大的互联网搜索引擎提供商之一，也是全球领先的AI公司。以下是对百度的详细介绍：\\n\\n一、公司概况\\n\\n百度（BIDU）是一家提供中文搜索引擎的公司，由李彦宏于2000年1月在北京中关村创立。经过多年的发展，百度已经从单一的搜索引擎服务商成功转型为内容生态与人工智能（AI）融合的互联网公司。百度的使命是“用科技让复杂的世界更简单”，其核心价值观包括“简单可依赖”。\\n\\n二、主要业务与产品\\n\\n1. 搜索业务：百度搜索是中国最大的中文搜索引擎，每天响应来自全球各地的搜索请求。除了传统的网页、图片、视频等搜索结果外，还提供了知识图谱、语音搜索等创新功能。\\n2. 移动生态业务：百度APP是百度移动生态的核心产品，围绕看、搜、听、问、购等核心场景为用户提供服务。此外，百度还拥有信息流、智能小程序、百度知道、百度文库等一系列移动生态产品。\\n3. 智能云业务：百度智能云是百度提供的云计算服务平台，为企业提供计算、存储、网络等基础设施服务以及人工智能、大数据等中间件服务。\\n4. 智能驾驶业务：百度在自动驾驶领域具有领先地位，其Apollo自动驾驶平台已经发展出多种商业模式，包括自动驾驶技术解决方案、百度造车以及共享无人车等。\\n\\n三、财务状况与业绩表现\\n\\n根据百度发布的财报显示，其业绩表现亮眼。例如，在2023年，百度总营收达到了显著的水平，其中百度核心收入同比增长。这主要得益于公司在广告市场的持续领先地位以及非在线营销收入的增长。同时，百度在研发投入方面也保持了较高水平，以推动其AI技术的持续创新和发展。\\n\\n四、AI技术与创新\\n\\n百度在AI技术方面取得了显著成果。其文心大模型已经升级到4.0版本，用户规模超过了1亿。这一技术使得百度具备了与全球领先的AI产品相媲美的能力。此外，百度还在文字生成视频等领域进行了战略投资，以进一步拓展其业务范围并加强在AI领域的领先地位。\\n\\n综上所述，百度公司作为中国最大的互联网搜索引擎提供商和全球领先的AI公司之一，凭借其强大的技术实力和创新能力，在搜索、移动生态、智能云和智能驾驶等领域取得了显著的成果。', 'name': 'msg', 'mtype': 'dict', 'id': 'c4f02188-1206-4c02-be8e-1c5481428003', 'extra': {}, 'token_usage': {'prompt_tokens': 4, 'completion_tokens': 456, 'total_tokens': 460}}\n"
     ]
    }
   ],
   "source": [
    "import json\n",
    "cursor.execute(\"SELECT message_value FROM appbuilder_session_messages;\")  \n",
    "for row in cursor.fetchall():  \n",
    "    print(json.loads(row[0]))"
   ]
  },
  {
   "cell_type": "markdown",
   "id": "5ff82880",
   "metadata": {},
   "source": [
    "以id查询相关的agent_runtime信息"
   ]
  },
  {
   "cell_type": "code",
   "execution_count": 87,
   "id": "e79e2554",
   "metadata": {
    "vscode": {
     "languageId": "shellscript"
    }
   },
   "outputs": [
    {
     "name": "stdout",
     "output_type": "stream",
     "text": [
      "16010b88-d766-4524-81ee-37f96ceadb4d\n",
      "b2c9d058-4475-4258-ad90-4334f3d024d5\n",
      "0bdafb3d-f7e3-4187-bc1d-63cf51fbda29\n",
      "query\n",
      "{'content': '你好', 'name': 'msg', 'mtype': 'str', 'id': '90c8d150-c7b9-44a4-ac77-50dd61ee329a'}\n",
      "2024-07-30 15:01:10.949475\n",
      "2024-07-30 15:01:10.949485\n",
      "0\n",
      "4bd85fd0-2e5c-4de1-a47e-ea122f7e928c\n",
      "b2c9d058-4475-4258-ad90-4334f3d024d5\n",
      "0bdafb3d-f7e3-4187-bc1d-63cf51fbda29\n",
      "answer\n",
      "{'content': '你好，我是百度研发的知识增强大语言模型，中文名是文心一言，英文名是ERNIE Bot。我能够与人对话互动，回答问题，协助创作，高效便捷地帮助人们获取信息、知识和灵感。', 'name': 'msg', 'mtype': 'dict', 'id': '0fc6c5f7-23bf-4f25-8555-69b4155908b7', 'extra': {}, 'token_usage': {'prompt_tokens': 2, 'completion_tokens': 42, 'total_tokens': 44}}\n",
      "2024-07-30 15:01:10.955875\n",
      "2024-07-30 15:01:10.955884\n",
      "0\n",
      "d6e433fc-ef4d-4ade-9a63-fec600e95481\n",
      "b2c9d058-4475-4258-ad90-4334f3d024d5\n",
      "6300b76b-2307-4ed3-9f6d-e61dfc621ff8\n",
      "query\n",
      "{'content': '请介绍一下你自己', 'name': 'msg', 'mtype': 'dict', 'id': '4f5cf6d1-976e-456e-a632-93c4b2550523', 'extra': {'search_db': [{'content': '带机器人回复：请你扮演一个智能搜索改写补全机器人，请根据User的搜索历史以及对应的搜索结果，对最后一句话先进行主语继承改写，然后进行上下文信息补全，注意：不要改变原文的意思，答案要尽可能简洁，不要直接回答该问题，不要输出多于的内容。\\\\n\\\\n例子：\\\\n搜索历史：\\\\nUser：今天上午你干嘛了\\\\nAssistant：去打篮球啦\\\\nUser：好玩吗？\\\\n答案：\\\\n打篮球好玩吗？', 'dataset_id': '1f777fa3-26db-4237-98d5-075abc07a84f', 'dataset_name': '多轮改写Prompt', 'document_id': '92e0f30d-1f30-46f0-8377-59ab0fb6eb93', 'document_name': '多轮改写prompt_带机器人回复.txt', 'id': '61657591-f610-44f0-84ec-67cedcb66447', 'mock_id': '1', 'position': 0, 'score': 0.511053, 'sentences': [{'content': '带机器人回复：请你扮演一个智能搜索改写补全机器人，请根据User的搜索历史以及对应的搜索结果，对最后一句话先进行主语继承改写，然后进行上下文信息补全，注意：不要改变原文的意思，答案要尽可能简洁，不要直接回答该问题，不要输出多于的内容。\\\\n\\\\n例子：\\\\n搜索历史：\\\\nUser：今天上午你干嘛了\\\\nAssistant：去打篮球啦\\\\nUser：好玩吗？', 'id': '1f777fa3-26db-4237-98d5-075abc07a84f-5992356ea8c0c05485388623218e134e-975ec17bbf8206762df7cfb24a5cd85e-97468bdaf0accef718118a2b742d5cc0', 'score': 0.628708, 'source': None}], 'title': '多轮改写prompt_带机器人回复.txt', 'tokens': 0, 'type': 'engine', 'word_count': 188}]}, 'token_usage': {'prompt_tokens': 321, 'completion_tokens': 3, 'total_tokens': 324}}\n",
      "2024-07-30 15:01:19.161269\n",
      "2024-07-30 15:01:19.161272\n",
      "0\n",
      "f0d76f00-93be-4d7c-a6b3-a9583fd677ad\n",
      "b2c9d058-4475-4258-ad90-4334f3d024d5\n",
      "6300b76b-2307-4ed3-9f6d-e61dfc621ff8\n",
      "answer\n",
      "{'content': '您好，我是文心一言，英文名是ERNIE Bot。我能够与人对话互动，回答问题，协助创作，高效便捷地帮助人们获取信息、知识和灵感。', 'name': 'msg', 'mtype': 'dict', 'id': 'f769c850-f4e5-4d02-a62a-766fd8c8132e', 'extra': {}, 'token_usage': {'prompt_tokens': 4, 'completion_tokens': 33, 'total_tokens': 37}}\n",
      "2024-07-30 15:01:19.163405\n",
      "2024-07-30 15:01:19.163411\n",
      "0\n",
      "936c394a-a3fa-48fd-a72f-b1778ebc35e4\n",
      "b2c9d058-4475-4258-ad90-4334f3d024d5\n",
      "5eb09e91-6496-44d9-9303-a4790e97f61c\n",
      "query\n",
      "{'content': '介绍一下baidu公司', 'name': 'msg', 'mtype': 'dict', 'id': '0ff3b298-7f01-4036-927d-722e00afaf33', 'extra': {'search_db': [{'content': '带机器人回复：请你扮演一个智能搜索改写补全机器人，请根据User的搜索历史以及对应的搜索结果，对最后一句话先进行主语继承改写，然后进行上下文信息补全，注意：不要改变原文的意思，答案要尽可能简洁，不要直接回答该问题，不要输出多于的内容。\\\\n\\\\n例子：\\\\n搜索历史：\\\\nUser：今天上午你干嘛了\\\\nAssistant：去打篮球啦\\\\nUser：好玩吗？\\\\n答案：\\\\n打篮球好玩吗？', 'dataset_id': '1f777fa3-26db-4237-98d5-075abc07a84f', 'dataset_name': '多轮改写Prompt', 'document_id': '92e0f30d-1f30-46f0-8377-59ab0fb6eb93', 'document_name': '多轮改写prompt_带机器人回复.txt', 'id': '61657591-f610-44f0-84ec-67cedcb66447', 'mock_id': '1', 'position': 0, 'score': 0.511053, 'sentences': [{'content': '带机器人回复：请你扮演一个智能搜索改写补全机器人，请根据User的搜索历史以及对应的搜索结果，对最后一句话先进行主语继承改写，然后进行上下文信息补全，注意：不要改变原文的意思，答案要尽可能简洁，不要直接回答该问题，不要输出多于的内容。\\\\n\\\\n例子：\\\\n搜索历史：\\\\nUser：今天上午你干嘛了\\\\nAssistant：去打篮球啦\\\\nUser：好玩吗？', 'id': '1f777fa3-26db-4237-98d5-075abc07a84f-5992356ea8c0c05485388623218e134e-975ec17bbf8206762df7cfb24a5cd85e-97468bdaf0accef718118a2b742d5cc0', 'score': 0.628708, 'source': None}], 'title': '多轮改写prompt_带机器人回复.txt', 'tokens': 0, 'type': 'engine', 'word_count': 188}]}, 'token_usage': {'prompt_tokens': 910, 'completion_tokens': 3, 'total_tokens': 913}}\n",
      "2024-07-30 15:02:21.551493\n",
      "2024-07-30 15:02:21.551529\n",
      "0\n",
      "5cd9d7ef-e26f-48ca-bd55-de2861cd4e84\n",
      "b2c9d058-4475-4258-ad90-4334f3d024d5\n",
      "5eb09e91-6496-44d9-9303-a4790e97f61c\n",
      "answer\n",
      "{'content': '百度公司是中国最大的互联网搜索引擎提供商之一，也是全球领先的AI公司。以下是对百度的详细介绍：\\n\\n一、公司概况\\n\\n百度（BIDU）是一家提供中文搜索引擎的公司，由李彦宏于2000年1月在北京中关村创立。经过多年的发展，百度已经从单一的搜索引擎服务商成功转型为内容生态与人工智能（AI）融合的互联网公司。百度的使命是“用科技让复杂的世界更简单”，其核心价值观包括“简单可依赖”。\\n\\n二、主要业务与产品\\n\\n1. 搜索业务：百度搜索是中国最大的中文搜索引擎，每天响应来自全球各地的搜索请求。除了传统的网页、图片、视频等搜索结果外，还提供了知识图谱、语音搜索等创新功能。\\n2. 移动生态业务：百度APP是百度移动生态的核心产品，围绕看、搜、听、问、购等核心场景为用户提供服务。此外，百度还拥有信息流、智能小程序、百度知道、百度文库等一系列移动生态产品。\\n3. 智能云业务：百度智能云是百度提供的云计算服务平台，为企业提供计算、存储、网络等基础设施服务以及人工智能、大数据等中间件服务。\\n4. 智能驾驶业务：百度在自动驾驶领域具有领先地位，其Apollo自动驾驶平台已经发展出多种商业模式，包括自动驾驶技术解决方案、百度造车以及共享无人车等。\\n\\n三、财务状况与业绩表现\\n\\n根据百度发布的财报显示，其业绩表现亮眼。例如，在2023年，百度总营收达到了显著的水平，其中百度核心收入同比增长。这主要得益于公司在广告市场的持续领先地位以及非在线营销收入的增长。同时，百度在研发投入方面也保持了较高水平，以推动其AI技术的持续创新和发展。\\n\\n四、AI技术与创新\\n\\n百度在AI技术方面取得了显著成果。其文心大模型已经升级到4.0版本，用户规模超过了1亿。这一技术使得百度具备了与全球领先的AI产品相媲美的能力。此外，百度还在文字生成视频等领域进行了战略投资，以进一步拓展其业务范围并加强在AI领域的领先地位。\\n\\n综上所述，百度公司作为中国最大的互联网搜索引擎提供商和全球领先的AI公司之一，凭借其强大的技术实力和创新能力，在搜索、移动生态、智能云和智能驾驶等领域取得了显著的成果。', 'name': 'msg', 'mtype': 'dict', 'id': 'c4f02188-1206-4c02-be8e-1c5481428003', 'extra': {}, 'token_usage': {'prompt_tokens': 4, 'completion_tokens': 456, 'total_tokens': 460}}\n",
      "2024-07-30 15:02:21.557667\n",
      "2024-07-30 15:02:21.557671\n",
      "0\n"
     ]
    }
   ],
   "source": [
    "cursor.execute(\"SELECT * FROM appbuilder_session_messages WHERE session_id = 'b2c9d058-4475-4258-ad90-4334f3d024d5';\")  \n",
    "for tuple in cursor.fetchall():\n",
    "    for message in tuple:\n",
    "        try: \n",
    "            message = json.loads(message)\n",
    "            print(message)\n",
    "        except:\n",
    "            print(message)"
   ]
  }
 ],
 "metadata": {
  "kernelspec": {
   "display_name": "Python 3 (ipykernel)",
   "language": "python",
   "name": "python3"
  },
  "language_info": {
   "codemirror_mode": {
    "name": "ipython",
    "version": 3
   },
   "file_extension": ".py",
   "mimetype": "text/x-python",
   "name": "python",
   "nbconvert_exporter": "python",
   "pygments_lexer": "ipython3",
   "version": "3.9.12"
  }
 },
 "nbformat": 4,
 "nbformat_minor": 5
}
