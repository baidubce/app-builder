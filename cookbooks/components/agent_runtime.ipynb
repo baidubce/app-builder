{
 "cells": [
  {
   "attachments": {},
   "cell_type": "markdown",
   "id": "f802e64d-4eaa-445d-a48a-1042a91bc394",
   "metadata": {
    "tags": []
   },
   "source": [
    "# 基于AgentRuntime服务化组件\n",
    "\n",
    "## 目标\n",
    "使用 AgentRuntime 对组件进行服务化。\n",
    "\n",
    "AgentRuntime 是对组件（Component）的服务化封装，具体有如下几个功能：\n",
    "- 一键服务化组件: 使得组件能够以服务的形式运行，支持 API 调用和对话框交互。\n",
    "- Session 数据管理: 提供 Session 数据的管理功能，允许跟踪和存储用户会话数据。\n",
    "- 请求时鉴权: 支持在请求时进行认证，确保安全性。\n",
    "\n",
    "\n",
    "## 准备工作\n",
    "### 安装Python SDK\n",
    "\n",
    "appbuilder 支持使用 pip 安装（要求Python >= 3.8），并且 AgentRuntime 服务化组件依赖 `appbuilder-sdk[serve]`"
   ]
  },
  {
   "cell_type": "code",
   "execution_count": null,
   "id": "2939356f-61c2-42e9-9e0c-fc6729c193f6",
   "metadata": {
    "vscode": {
     "languageId": "shellscript"
    }
   },
   "outputs": [],
   "source": [
    "pip install appbuilder-sdk 'appbuilder-sdk[serve]'"
   ]
  },
  {
   "attachments": {},
   "cell_type": "markdown",
   "id": "aeb2fa55-075f-48df-a9fb-8b40d9900684",
   "metadata": {},
   "source": [
    "## 基本用法\n",
    "\n",
    "### 快速开始\n",
    "\n",
    "下面的示例会基于 Playground 组件，在 8091 端口部署 Web 服务: "
   ]
  },
  {
   "cell_type": "code",
   "execution_count": null,
   "id": "41559341-fd7a-478c-a08b-1477d79e9d41",
   "metadata": {
    "ExecuteTime": {
     "end_time": "2023-12-18T06:24:26.982459Z",
     "start_time": "2023-12-18T06:23:53.771345Z"
    }
   },
   "outputs": [],
   "source": [
    "import os\n",
    "import appbuilder\n",
    "\n",
    "# 使用组件之前，请前往千帆AppBuilder官网创建密钥，流程详见：https://cloud.baidu.com/doc/AppBuilder/s/Olq6grrt6#1、创建密钥\n",
    "os.environ[\"APPBUILDER_TOKEN\"] = '...'\n",
    "\n",
    "component = appbuilder.Playground(\n",
    "    prompt_template=\"{query}\",\n",
    "    model=\"ERNIE-Bot\"\n",
    ")\n",
    "\n",
    "agent = appbuilder.AgentRuntime(component=component)\n",
    "agent.serve(port=8091)"
   ]
  },
  {
   "cell_type": "markdown",
   "id": "b71e24eb",
   "metadata": {},
   "source": [
    "通过 Shell 命令测试启动的服务, 请求 Body 为组件 run 方法的入参：\n"
   ]
  },
  {
   "cell_type": "code",
   "execution_count": null,
   "id": "12c71fa5",
   "metadata": {
    "vscode": {
     "languageId": "shellscript"
    }
   },
   "outputs": [],
   "source": [
    "curl --location 'http://0.0.0.0:8091/chat' \\\n",
    "--header 'Content-Type: application/json' \\\n",
    "--data '{\n",
    "    \"message\": \"海淀区的面积是多少\",\n",
    "    \"stream\": false\n",
    "}'"
   ]
  },
  {
   "attachments": {},
   "cell_type": "markdown",
   "id": "5fc5bc38-6bc5-4187-a8fd-f802d77d89fa",
   "metadata": {},
   "source": [
    "## AgentRuntime 参数说明"
   ]
  },
  {
   "cell_type": "markdown",
   "id": "c2364c35",
   "metadata": {},
   "source": [
    "### 1. 类初始化参数说明\n",
    "\n",
    "AgentRuntime 初始化接受两个参数。\n",
    "\n",
    "| 参数名称 | 参数类型 | 是否必须 | 描述 | 示例值 |\n",
    "|--|--|--|--|--|\n",
    "| component | Component | 是 | 可运行的 Component, 该 Component 需要实现 run(message, stream, **args) 方法。 | Playground(prompt_template=\"{query}\", model=\"ERNIE-Bot\") |\n",
    "| user_session_config | sqlalchemy.engine.URL\\|Str\\|None | 否 | 会话 Session 数据存储的数据库配置，遵循 sqlalchemy 后端定义，可参考[文档](https://docs.sqlalchemy.org/en/20/core/engines.html#backend-specific-urls)。默认使用 sqlite:///user_session.db，即本地的 SQLite 存储 | \"sqlite:///user_session.db\" |"
   ]
  },
  {
   "cell_type": "markdown",
   "id": "62e1af06",
   "metadata": {},
   "source": [
    "### 2. API 服务参数\n",
    "\n",
    "#### 2.1 请求参数\n",
    "\n",
    "**接口定义**\n",
    "\n",
    "| URL | Method |\n",
    "|--|--|\n",
    "| /chat | POST |\n",
    "\n",
    "**Header 参数**\n",
    "\n",
    "| 参数名称 | 是否必须 | 描述 | 示例值 |\n",
    "|--|--|--|--|\n",
    "| Content-Type | 是 | 必须设置为\"application/json\" | \"application/json\" |\n",
    "| X-Appbuilder-Token | 否 | 开启请求时认证能力时需要带入 APPBUILDER_TOKEN 进行鉴权 | 前往千帆AppBuilder官网创建密钥，流程详见[文档](https://cloud.baidu.com/doc/AppBuilder/s/Olq6grrt6#1、创建密钥) |\n",
    "\n",
    "**Body 参数**\n",
    "\n",
    "| 参数名称 | 参数类型 | 是否必须 | 描述 | 示例值 |\n",
    "|--|--|--|--|--|\n",
    "| message | Any | 是 | 透传到 component 的 run 方法的 message 参数 | \"海淀区的面积是多少\" |\n",
    "| stream | Bool | 否 | 是否流式调用。透传到 component 的 run 方法的 stream 参数。默认为 false | false |\n",
    "| session_id | Str | 否 | 用于标示同一个会话（Session）。如果不传该值，后端会自动生成 session_id，在响应参数中返回 | \"99680089-5acb-4298-9ade-a1a3f6c28102\" |\n",
    "| 其他参数 | Any | 否 | 透传到 component 的 run 方法 | - |\n",
    "\n",
    "\n",
    "#### 2.2 响应参数\n",
    "分为非流式响应和流式响应。\n",
    "\n",
    "**非流式响应**\n",
    "\n",
    "| 参数名称 | 参数类型 | 描述 | 示例值 |\n",
    "|--|--|--|--|\n",
    "| code | Int | 错误码。值为0表示成功，否则为失败。非0错误详见错误码部分描述 | 0 |\n",
    "| message | Str | 错误信息描述。 | \"Missing input variable query in message ['海淀区的面积是多少']\" |\n",
    "| result | Object | 请求结果 | - |\n",
    "| + answer_message | Object | 组件返回值，由返回的 Message 序列化得到 | {\"content\":\"海淀区是北京市的一个区，位于北京市主城区西部和西北部，东与西城区、朝阳区相邻，南与丰台区毗连，西与石景山区、门头沟区交界，北与昌平区接壤。海淀区的面积为**431平方千米**，约占北京市总面积的2.6%。\",\"extra\":{},\"id\":\"6b4e5019-a708-4bc5-a6ec-595fb4285677\",\"mtype\":\"dict\",\"name\":\"msg\"} |\n",
    "| + session_id | Str | 用于标示同一个会话（Session） | \"99680089-5acb-4298-9ade-a1a3f6c28102\" |\n",
    "\n",
    "**流式响应**\n",
    "\n",
    "流式数据以追加的形式返回。流式和非流式的数据结构一致，不再描述。\n",
    "\n",
    "#### 2.3 响应示例\n",
    "\n",
    "分为非流式响应和流式响应。\n",
    "\n",
    "**非流式响应**\n",
    "\n",
    "```shell\n",
    "{\n",
    "  \"code\": 0,\n",
    "  \"message\": \"\",\n",
    "  \"result\": {\n",
    "    \"answer_message\": {\n",
    "      \"content\": \"海淀区是北京市的一个区，位于北京市主城区西部和西北部，东与西城区、朝阳区相邻，南与丰台区毗连，西与石景山区、门头沟区交界，北与昌平区接壤。海淀区的面积为**431平方千米**，约占北京市总面积的2.6%。\",\n",
    "      \"extra\": {},\n",
    "      \"id\": \"6b4e5019-a708-4bc5-a6ec-595fb4285677\",\n",
    "      \"mtype\": \"dict\",\n",
    "      \"name\": \"msg\"\n",
    "    },\n",
    "    \"session_id\": \"99680089-5acb-4298-9ade-a1a3f6c28102\"\n",
    "  }\n",
    "}\n",
    "```\n",
    "\n",
    "**流式响应**\n",
    "\n",
    "```shell\n",
    "data: {\"code\": 0, \"message\": \"\", \"result\": {\"session_id\": \"663303a9-d83d-481f-a084-872ece87989c\", \"answer_message\": {\"content\": \"海淀区\", \"extra\": {}}}}\n",
    "\n",
    "data: {\"code\": 0, \"message\": \"\", \"result\": {\"session_id\": \"663303a9-d83d-481f-a084-872ece87989c\", \"answer_message\": {\"content\": \"，隶属于北京市，位于北京市主城区西部和西北部，东与西城区、朝阳区相邻，南与丰台区毗连，\", \"extra\": {}}}}\n",
    "\n",
    "data: {\"code\": 0, \"message\": \"\", \"result\": {\"session_id\": \"663303a9-d83d-481f-a084-872ece87989c\", \"answer_message\": {\"content\": \"西与石景山区、门头沟区交界，北与昌平区接壤，总面积**431平方千米**。\", \"extra\": {}}}}\n",
    "\n",
    "data: {\"code\": 0, \"message\": \"\", \"result\": {\"session_id\": \"663303a9-d83d-481f-a084-872ece87989c\", \"answer_message\": {\"content\": \"\", \"extra\": {}}}}\n",
    "```\n",
    "\n",
    "#### 2.4 错误码\n",
    "| 错误码 | 描述 |\n",
    "|--|--|\n",
    "| 400 | 客户端请求参数错误 |\n",
    "| 1000 | 服务端执行错误 |"
   ]
  },
  {
   "cell_type": "markdown",
   "id": "61923b00",
   "metadata": {},
   "source": [
    "## 高级用法"
   ]
  },
  {
   "cell_type": "markdown",
   "id": "a2303c76",
   "metadata": {},
   "source": [
    "### 1. 一键服务化组件 \n",
    "AgentRuntime 可以快速组件以服务的形式运行，支持 API 调用和对话框交互。\n",
    "\n",
    "**1.1 API调用**\n",
    "\n",
    "API 调用的基础用法在快速开始小结已经给出，这里不再赘述。\n",
    "\n",
    "下面介绍使用 `gunicorn` 启动生产级 Web 服务的方法，`gunicorn` 是一个适用于 UNIX 的 Python WSGI HTTP 服务器，详见[项目链接](https://github.com/benoitc/gunicorn)。\n",
    "\n",
    "首先创建 `app.py` 文件，暴露 Flask App："
   ]
  },
  {
   "cell_type": "code",
   "execution_count": null,
   "id": "fde5cc94",
   "metadata": {},
   "outputs": [],
   "source": [
    "import os\n",
    "import appbuilder\n",
    "\n",
    "# 使用组件之前，请前往千帆AppBuilder官网创建密钥，流程详见：https://cloud.baidu.com/doc/AppBuilder/s/Olq6grrt6#1、创建密钥\n",
    "os.environ[\"APPBUILDER_TOKEN\"] = '...'\n",
    "\n",
    "def get_flask_app():\n",
    "    component = appbuilder.Playground(\n",
    "        prompt_template=\"{query}\",\n",
    "        model=\"ERNIE-Bot\"\n",
    "    )\n",
    "    agent = appbuilder.AgentRuntime(component=component)\n",
    "    return agent.create_flask_app()"
   ]
  },
  {
   "cell_type": "markdown",
   "id": "a41ef57b",
   "metadata": {},
   "source": [
    "基于 `gunicorn` 启动生产级服务："
   ]
  },
  {
   "cell_type": "code",
   "execution_count": null,
   "id": "2077833f",
   "metadata": {
    "vscode": {
     "languageId": "shellscript"
    }
   },
   "outputs": [],
   "source": [
    "# 服务工作进程数\n",
    "SERVER_WORKER_AMOUNT=8\n",
    "# 服务工作进程启动方式\n",
    "SERVER_WORKER_CLASS=gevent\n",
    "# 服务超时时间\n",
    "GUNICORN_TIMEOUT=60\n",
    "\n",
    "gunicorn \\\n",
    "  --bind \"0.0.0.0:8091\" \\\n",
    "  --workers ${SERVER_WORKER_AMOUNT} \\\n",
    "  --worker-class ${SERVER_WORKER_CLASS} \\\n",
    "  --timeout ${GUNICORN_TIMEOUT} \\\n",
    "  \"app:get_flask_app()\""
   ]
  },
  {
   "cell_type": "markdown",
   "id": "673c7565",
   "metadata": {},
   "source": [
    "**1.2 对话框交互**\n",
    "\n",
    "基于 chainlit 的对话框交互对被服务化的组件的 message 参数更加严格，要求能够接受 Str 的基础类型。\n",
    "\n",
    "执行下面的代码，会启动一个 chainlit 页面，页面地址：0.0.0.0:8091"
   ]
  },
  {
   "cell_type": "code",
   "execution_count": null,
   "id": "e485544f",
   "metadata": {},
   "outputs": [],
   "source": [
    "import os\n",
    "import appbuilder\n",
    "\n",
    "# 使用组件之前，请前往千帆AppBuilder官网创建密钥，流程详见：https://cloud.baidu.com/doc/AppBuilder/s/Olq6grrt6#1、创建密钥\n",
    "os.environ[\"APPBUILDER_TOKEN\"] = '...'\n",
    "\n",
    "component = appbuilder.Playground(\n",
    "    prompt_template=\"{query}\",\n",
    "    model=\"ERNIE-Bot\"\n",
    ")\n",
    "\n",
    "agent = appbuilder.AgentRuntime(component=component)\n",
    "agent.chainlit_demo(port=8091)"
   ]
  },
  {
   "cell_type": "markdown",
   "id": "4d63bece",
   "metadata": {},
   "source": [
    "Chainlit Demo页面示意图如下所示，\n",
    "\n",
    "![chainlit demo](image/agent_runtime_with_chainlit_demo.png)"
   ]
  },
  {
   "cell_type": "markdown",
   "id": "a074f367",
   "metadata": {},
   "source": [
    "**1.3 对话框交互AppBuilderClient**\n",
    "\n",
    "基于 chainlit 的对话框交互AppBuilderClient，可实现对话交互。\n",
    "\n",
    "执行下面的代码，会启动一个 chainlit 页面，页面地址：0.0.0.0:8091。可在页面上上传文档（可选）、执行对话。"
   ]
  },
  {
   "cell_type": "code",
   "execution_count": null,
   "id": "0a75e035",
   "metadata": {},
   "outputs": [],
   "source": [
    "import os\n",
    "import appbuilder\n",
    "\n",
    "# 使用组件之前，请前往千帆AppBuilder官网创建密钥，流程详见：https://cloud.baidu.com/doc/AppBuilder/s/Olq6grrt6#1、创建密钥\n",
    "os.environ[\"APPBUILDER_TOKEN\"] = \"...\"\n",
    "# 使用之前，在官网个人空间获取应用ID，如下图\n",
    "app_id= \"...\"\n",
    "agent_builder = appbuilder.AppBuilderClient(app_id)\n",
    "agent = appbuilder.AgentRuntime(component=agent_builder)\n",
    "agent.chainlit_agent(port=8091)"
   ]
  },
  {
   "cell_type": "markdown",
   "id": "d5162e29",
   "metadata": {},
   "source": [
    "在官网个人空间获取应用ID\n",
    "![get app_id](../app_builder_resources/app_id.png)\n",
    "\n",
    "使用服务上传文件并对话示意图如下所示\n",
    "![chainlit demo](./image/agent_runtime_with_chainlit_agent.png)"
   ]
  },
  {
   "cell_type": "markdown",
   "id": "2392f46d",
   "metadata": {},
   "source": [
    "### 2. Session 数据管理\n",
    "AgentRuntime 提供 Session 数据的管理功能，允许跟踪和存储用户会话数据。一般只有在二次开发的组件需要使用该能力。\n",
    "\n",
    "**2.1 二次开发组件**\n",
    "\n",
    "二次开发的组件需要重写组件的 run(message, stream, **args)方法，并且至少需要有 message 和 stream 两个参数。\n",
    "\n",
    "下面基于 QueryRewrite 和 Playground 两个组件，开发 PlaygroundWithHistory 组件，该组件需要对会话数据进行操作。\n",
    "\n",
    "当使用 Component 独立运行时，会话数据会被存储于内存。\n"
   ]
  },
  {
   "cell_type": "code",
   "execution_count": null,
   "id": "079048e3",
   "metadata": {},
   "outputs": [],
   "source": [
    "import os\n",
    "import logging\n",
    "from appbuilder.core.component import Component\n",
    "from appbuilder import (\n",
    "    AgentRuntime, UserSession, Message, QueryRewrite, Playground,\n",
    ")\n",
    "\n",
    "# 使用组件之前，请前往千帆AppBuilder官网创建密钥，流程详见：https://cloud.baidu.com/doc/AppBuilder/s/Olq6grrt6#1、创建密钥\n",
    "os.environ[\"APPBUILDER_TOKEN\"] = '...'\n",
    "\n",
    "class PlaygroundWithHistory(Component):\n",
    "    def __init__(self):\n",
    "        super().__init__()\n",
    "        self.query_rewrite = QueryRewrite(model=\"ERNIE Speed-AppBuilder\")\n",
    "        self.playground = Playground(\n",
    "            prompt_template=\"{query}\",\n",
    "            model=\"ERNIE-Bot\"\n",
    "        )\n",
    "\n",
    "    def run(self, message: Message, stream: bool=False):\n",
    "        user_session = UserSession()\n",
    "        # 获取 Session 历史数据\n",
    "        history_queries = user_session.get_history(\"query\", limit=1)\n",
    "        history_answers = user_session.get_history(\"answer\", limit=1)\n",
    "\n",
    "        # query 改写\n",
    "        if history_queries and history_answers:\n",
    "            history = []\n",
    "            for query, answer in zip(history_queries, history_answers):\n",
    "                history.extend([query.content, answer.content])\n",
    "            logging.info(f\"history: {history}\")\n",
    "            message = self.query_rewrite(\n",
    "                Message(history + [message.content]), rewrite_type=\"带机器人回复\")\n",
    "        logging.info(f\"message: {message}\") \n",
    "\n",
    "        # 执行 playground\n",
    "        answer = self.playground.run(message, stream)\n",
    "\n",
    "        # 保存本轮数据\n",
    "        user_session.append({\n",
    "            \"query\": message,\n",
    "            \"answer\": answer,\n",
    "        }) \n",
    "        return answer\n",
    "\n",
    "# component 可以独立运行，session数据会被保存于内存\n",
    "playground_with_history_component = PlaygroundWithHistory()\n",
    "print(playground_with_history_component.run(Message(\"海淀区的面积是多少\"), stream=False))"
   ]
  },
  {
   "cell_type": "markdown",
   "id": "480fd56d",
   "metadata": {},
   "source": [
    "**2.2 会话数据存储数据库**\n",
    "\n",
    "使用 AgentRuntime 对 Component 服务化，会话数据会被存储于数据库。\n",
    "下面的代码以 SQLite 为例展示该能力，更多数据库配置详见[文档](https://docs.sqlalchemy.org/en/20/core/engines.html#backend-specific-urls)"
   ]
  },
  {
   "cell_type": "code",
   "execution_count": null,
   "id": "111b11de",
   "metadata": {},
   "outputs": [],
   "source": [
    "user_session_config = \"sqlite:///foo.db\"\n",
    "agent = appbuilder.AgentRuntime(\n",
    "    component=playground_with_history_component, \n",
    "    user_session_config=user_session_config)\n",
    "agent.serve(port=8091)"
   ]
  },
  {
   "cell_type": "markdown",
   "id": "e7dc38ec",
   "metadata": {},
   "source": [
    "### 3. 请求时鉴权\n",
    "AgentRuntime 支持在请求时进行认证，确保安全性。\n",
    "\n",
    "使用该能力，在初始化组件时需要设置 lazy 鉴权："
   ]
  },
  {
   "cell_type": "code",
   "execution_count": null,
   "id": "2125bf4f",
   "metadata": {},
   "outputs": [],
   "source": [
    "import appbuilder\n",
    "\n",
    "# 无需配置 APPBUILDER_TOKEN 环境变量\n",
    "\n",
    "component = appbuilder.Playground(\n",
    "    prompt_template=\"{query}\",\n",
    "    model=\"ERNIE-Bot\",\n",
    "    lazy_certification=True, # 设置 lazy 鉴权，在创建时不进行认证\n",
    ")\n",
    "\n",
    "agent = appbuilder.AgentRuntime(component=component)\n",
    "agent.serve(port=8091)"
   ]
  },
  {
   "cell_type": "markdown",
   "id": "bbf35a0a",
   "metadata": {},
   "source": [
    "当初始化组件时进行了 lazy 鉴权，请求时请求头必须带上 `X-Appbuilder-Token` （即Appbuilder密钥，获取流程详见[千帆AppBuilder官网创建密钥](https://cloud.baidu.com/doc/AppBuilder/s/Olq6grrt6#1、创建密钥)）进行鉴权："
   ]
  },
  {
   "cell_type": "code",
   "execution_count": null,
   "id": "60dcfa37",
   "metadata": {
    "vscode": {
     "languageId": "shellscript"
    }
   },
   "outputs": [],
   "source": [
    "curl --location 'http://0.0.0.0:8091/chat' \\\n",
    "    --header 'Content-Type: application/json' \\\n",
    "    --header 'X-Appbuilder-Token: ...' \\\n",
    "    --data '{\n",
    "        \"message\": \"海淀区的面积是多少\",\n",
    "        \"stream\": false\n",
    "    }'"
   ]
  },
  {
   "cell_type": "markdown",
   "id": "f8584416",
   "metadata": {},
   "source": [
    "### 4. 查看user_session.db储存信息\n",
    "\n",
    "\n",
    "使用该能力，查看用户对话信息。"
   ]
  },
  {
   "cell_type": "code",
   "execution_count": 1,
   "id": "9bbeb156",
   "metadata": {
    "vscode": {
     "languageId": "shellscript"
    }
   },
   "outputs": [],
   "source": [
    "import sqlite3  \n",
    "  \n",
    "# 连接到 SQLite 数据库  \n",
    "# 如果文件不存在，会自动在当前目录创建:  \n",
    "user_session_path = '/Users/yinjiaqi/workspace/user_session.db'  \n",
    "conn = sqlite3.connect(user_session_path)  \n",
    "cursor = conn.cursor()  "
   ]
  },
  {
   "cell_type": "markdown",
   "id": "54cce03b",
   "metadata": {},
   "source": [
    "执行 SQL 语句，列出SQLite数据库中的所有表"
   ]
  },
  {
   "cell_type": "code",
   "execution_count": 3,
   "id": "f4ca2963",
   "metadata": {
    "vscode": {
     "languageId": "shellscript"
    }
   },
   "outputs": [
    {
     "name": "stdout",
     "output_type": "stream",
     "text": [
      "[('appbuilder_session_messages',)]\n",
      "appbuilder_session_messages\n"
     ]
    }
   ],
   "source": [
    "cursor.execute(\"SELECT name FROM sqlite_master WHERE type='table';\")  \n",
    "all_table = cursor.fetchall() # 获取所有表,返回列表数据类型\n",
    "print(all_table)\n",
    "table_name = all_table[0][0]\n",
    "print(table_name)"
   ]
  },
  {
   "cell_type": "markdown",
   "id": "e5b838f4",
   "metadata": {},
   "source": [
    "查询appbuilder_session_messages表的列信息,appbuilder_session_messages表的列信息为:\n",
    "- id\n",
    "- session_id\n",
    "- request_id\n",
    "- message_key\n",
    "- message_value\n",
    "- created_at\n",
    "- updated_at\n",
    "- deleted"
   ]
  },
  {
   "cell_type": "code",
   "execution_count": 4,
   "id": "1ac388d7",
   "metadata": {
    "vscode": {
     "languageId": "shellscript"
    }
   },
   "outputs": [
    {
     "name": "stdout",
     "output_type": "stream",
     "text": [
      "id\n",
      "session_id\n",
      "request_id\n",
      "message_key\n",
      "message_value\n",
      "created_at\n",
      "updated_at\n",
      "deleted\n"
     ]
    }
   ],
   "source": [
    "cursor.execute(\"PRAGMA table_info(appbuilder_session_messages);\")  \n",
    "columns_info = cursor.fetchall()  \n",
    "\n",
    "column_names = [info[1] for info in columns_info]  # info[1]是列名的位置  \n",
    "for column_name in column_names:  \n",
    "    print(column_name)   "
   ]
  },
  {
   "cell_type": "markdown",
   "id": "3965454f",
   "metadata": {},
   "source": [
    "查询表中的特定数据【以message_value信息为例】\n",
    "输出content、id、token_usage等信息"
   ]
  },
  {
   "cell_type": "code",
   "execution_count": 5,
   "id": "2e6d9e45",
   "metadata": {
    "vscode": {
     "languageId": "shellscript"
    }
   },
   "outputs": [
    {
     "name": "stdout",
     "output_type": "stream",
     "text": [
      "{'content': '你好', 'name': 'msg', 'mtype': 'str', 'id': '516eea59-4b66-412e-8084-72a0dd5fc1bf'}\n",
      "{'content': '你好，我是百度研发的知识增强大语言模型，中文名是文心一言，英文名是ERNIE Bot。我能够与人对话互动，回答问题，协助创作，高效便捷地帮助人们获取信息、知识和灵感。', 'name': 'msg', 'mtype': 'dict', 'id': '5bdb9378-fde8-4fa2-8023-89ab181cfa59', 'extra': {}, 'token_usage': {'prompt_tokens': 2, 'completion_tokens': 42, 'total_tokens': 44}}\n",
      "{'content': '我是大连理工大学校校十一人制超级组金靴殷家祺', 'name': 'msg', 'mtype': 'dict', 'id': 'cce3209d-7051-4067-a17a-14ed7487a21d', 'extra': {'search_db': [{'content': '带机器人回复：请你扮演一个智能搜索改写补全机器人，请根据User的搜索历史以及对应的搜索结果，对最后一句话先进行主语继承改写，然后进行上下文信息补全，注意：不要改变原文的意思，答案要尽可能简洁，不要直接回答该问题，不要输出多于的内容。\\\\n\\\\n例子：\\\\n搜索历史：\\\\nUser：今天上午你干嘛了\\\\nAssistant：去打篮球啦\\\\nUser：好玩吗？\\\\n答案：\\\\n打篮球好玩吗？', 'dataset_id': '1f777fa3-26db-4237-98d5-075abc07a84f', 'dataset_name': '多轮改写Prompt', 'document_id': '92e0f30d-1f30-46f0-8377-59ab0fb6eb93', 'document_name': '多轮改写prompt_带机器人回复.txt', 'id': '61657591-f610-44f0-84ec-67cedcb66447', 'mock_id': '1', 'position': 0, 'score': 0.511053, 'sentences': [{'content': '带机器人回复：请你扮演一个智能搜索改写补全机器人，请根据User的搜索历史以及对应的搜索结果，对最后一句话先进行主语继承改写，然后进行上下文信息补全，注意：不要改变原文的意思，答案要尽可能简洁，不要直接回答该问题，不要输出多于的内容。\\\\n\\\\n例子：\\\\n搜索历史：\\\\nUser：今天上午你干嘛了\\\\nAssistant：去打篮球啦\\\\nUser：好玩吗？', 'id': '1f777fa3-26db-4237-98d5-075abc07a84f-5992356ea8c0c05485388623218e134e-975ec17bbf8206762df7cfb24a5cd85e-97468bdaf0accef718118a2b742d5cc0', 'score': 0.628708, 'source': None}], 'title': '多轮改写prompt_带机器人回复.txt', 'tokens': 0, 'type': 'engine', 'word_count': 188}]}, 'token_usage': {'prompt_tokens': 325, 'completion_tokens': 15, 'total_tokens': 340}}\n",
      "{'content': '非常荣幸认识您，殷家祺同学。大连理工大学是一所享有盛誉的学府，而您能在校十一人制超级组中获得金靴奖，足以证明您在足球方面的出色才华和实力。这个奖项是对您过去努力和付出的肯定，同时也是对您未来潜力的认可。\\n\\n作为金靴奖得主，您在球场上的表现一定非常出色，无论是技术、速度还是进球能力，都让人赞叹不已。这个奖项不仅仅是对您个人的荣誉，更是对大连理工大学足球水平的认可。\\n\\n希望您能继续保持这份热情和努力，不断提升自己的足球技艺，为学校争得更多的荣誉。同时，也期待您在未来的足球生涯中能够取得更大的成就，成为中国足球的骄傲。再次恭喜您获得金靴奖，祝愿您未来的足球之路越走越宽广！', 'name': 'msg', 'mtype': 'dict', 'id': '33d9daa7-504f-4be9-a80c-70696c0d9f6c', 'extra': {}, 'token_usage': {'prompt_tokens': 16, 'completion_tokens': 159, 'total_tokens': 175}}\n",
      "{'content': '殷家祺是谁？', 'name': 'msg', 'mtype': 'dict', 'id': '4f932b58-0bfb-441a-acac-6536bebc4b7a', 'extra': {'search_db': [{'content': '带机器人回复：请你扮演一个智能搜索改写补全机器人，请根据User的搜索历史以及对应的搜索结果，对最后一句话先进行主语继承改写，然后进行上下文信息补全，注意：不要改变原文的意思，答案要尽可能简洁，不要直接回答该问题，不要输出多于的内容。\\\\n\\\\n例子：\\\\n搜索历史：\\\\nUser：今天上午你干嘛了\\\\nAssistant：去打篮球啦\\\\nUser：好玩吗？\\\\n答案：\\\\n打篮球好玩吗？', 'dataset_id': '1f777fa3-26db-4237-98d5-075abc07a84f', 'dataset_name': '多轮改写Prompt', 'document_id': '92e0f30d-1f30-46f0-8377-59ab0fb6eb93', 'document_name': '多轮改写prompt_带机器人回复.txt', 'id': '61657591-f610-44f0-84ec-67cedcb66447', 'mock_id': '1', 'position': 0, 'score': 0.511053, 'sentences': [{'content': '带机器人回复：请你扮演一个智能搜索改写补全机器人，请根据User的搜索历史以及对应的搜索结果，对最后一句话先进行主语继承改写，然后进行上下文信息补全，注意：不要改变原文的意思，答案要尽可能简洁，不要直接回答该问题，不要输出多于的内容。\\\\n\\\\n例子：\\\\n搜索历史：\\\\nUser：今天上午你干嘛了\\\\nAssistant：去打篮球啦\\\\nUser：好玩吗？', 'id': '1f777fa3-26db-4237-98d5-075abc07a84f-5992356ea8c0c05485388623218e134e-975ec17bbf8206762df7cfb24a5cd85e-97468bdaf0accef718118a2b742d5cc0', 'score': 0.628708, 'source': None}], 'title': '多轮改写prompt_带机器人回复.txt', 'tokens': 0, 'type': 'engine', 'word_count': 188}]}, 'token_usage': {'prompt_tokens': 1052, 'completion_tokens': 5, 'total_tokens': 1057}}\n",
      "{'content': '殷家祺可能是一个较为常见的中文名字，在不同领域有不同的人使用。根据公开信息，有多位名为殷家祺的人，包括但不限于学术领域、商业领域等。然而，由于存在重名现象，且个人信息可能随时间发生变化，因此很难确定您询问的殷家祺具体是哪一位。\\n\\n以下是一些名为殷家祺的人的信息：\\n\\n1. 在学术领域，有一位殷家祺曾对其导师表达感谢，这表明他/她可能是一位学生或研究人员。然而，这篇文章没有提供更多关于殷家祺的详细信息，因此无法确定其身份。\\n\\n2. 在商业领域，有一位殷家祺曾是深圳市云山科技服务有限公司的法定代表人，持有该公司100%的股份。该公司成立于2020年9月29日，主要从事信息传输、软件和信息技术服务业。然而，请注意，该信息可能已发生变化，因为公司在2023年12月2日发生了法定代表人变更。\\n\\n另外，还有一位殷家祺在年幼时受到了株洲市学前教育普惠工程的帮助，得以以极低的费用进入幼儿园学习。这个例子说明，名为殷家祺的人可能遍布各行各业，且年龄跨度也可能很大。\\n\\n总的来说，由于殷家祺是一个较为常见的名字，且个人信息可能随时间发生变化，因此很难根据您提供的信息确定具体的殷家祺是谁。如果您能提供更多的背景信息或上下文，我可能能够给出更准确的答案。', 'name': 'msg', 'mtype': 'dict', 'id': 'a7033378-d81e-4c7d-81f2-b72310595359', 'extra': {}, 'token_usage': {'prompt_tokens': 6, 'completion_tokens': 288, 'total_tokens': 294}}\n",
      "{'content': '我不是说了殷家祺是大连理工大学校十一人制超级组金靴吗？', 'name': 'msg', 'mtype': 'dict', 'id': '8d4d211d-7809-4b05-8ca6-7ee073bd6796', 'extra': {'search_db': [{'content': '带机器人回复：请你扮演一个智能搜索改写补全机器人，请根据User的搜索历史以及对应的搜索结果，对最后一句话先进行主语继承改写，然后进行上下文信息补全，注意：不要改变原文的意思，答案要尽可能简洁，不要直接回答该问题，不要输出多于的内容。\\\\n\\\\n例子：\\\\n搜索历史：\\\\nUser：今天上午你干嘛了\\\\nAssistant：去打篮球啦\\\\nUser：好玩吗？\\\\n答案：\\\\n打篮球好玩吗？', 'dataset_id': '1f777fa3-26db-4237-98d5-075abc07a84f', 'dataset_name': '多轮改写Prompt', 'document_id': '92e0f30d-1f30-46f0-8377-59ab0fb6eb93', 'document_name': '多轮改写prompt_带机器人回复.txt', 'id': '61657591-f610-44f0-84ec-67cedcb66447', 'mock_id': '1', 'position': 0, 'score': 0.511053, 'sentences': [{'content': '带机器人回复：请你扮演一个智能搜索改写补全机器人，请根据User的搜索历史以及对应的搜索结果，对最后一句话先进行主语继承改写，然后进行上下文信息补全，注意：不要改变原文的意思，答案要尽可能简洁，不要直接回答该问题，不要输出多于的内容。\\\\n\\\\n例子：\\\\n搜索历史：\\\\nUser：今天上午你干嘛了\\\\nAssistant：去打篮球啦\\\\nUser：好玩吗？', 'id': '1f777fa3-26db-4237-98d5-075abc07a84f-5992356ea8c0c05485388623218e134e-975ec17bbf8206762df7cfb24a5cd85e-97468bdaf0accef718118a2b742d5cc0', 'score': 0.628708, 'source': None}], 'title': '多轮改写prompt_带机器人回复.txt', 'tokens': 0, 'type': 'engine', 'word_count': 188}]}, 'token_usage': {'prompt_tokens': 1186, 'completion_tokens': 18, 'total_tokens': 1204}}\n",
      "{'content': '是的，您之前确实提到了殷家祺是大连理工大学校十一人制超级组金靴。如果您需要任何支持或者有任何疑问，请随时告诉我，我会尽力为您服务。', 'name': 'msg', 'mtype': 'dict', 'id': '72146a6d-a01c-4c75-8cdb-ba5db9caa4bc', 'extra': {}, 'token_usage': {'prompt_tokens': 19, 'completion_tokens': 37, 'total_tokens': 56}}\n",
      "{'content': '大连理工大学校十一人制超级组金靴是谁？', 'name': 'msg', 'mtype': 'dict', 'id': '9f4da466-b408-402a-96e8-651720e9129a', 'extra': {'search_db': [{'content': '带机器人回复：请你扮演一个智能搜索改写补全机器人，请根据User的搜索历史以及对应的搜索结果，对最后一句话先进行主语继承改写，然后进行上下文信息补全，注意：不要改变原文的意思，答案要尽可能简洁，不要直接回答该问题，不要输出多于的内容。\\\\n\\\\n例子：\\\\n搜索历史：\\\\nUser：今天上午你干嘛了\\\\nAssistant：去打篮球啦\\\\nUser：好玩吗？\\\\n答案：\\\\n打篮球好玩吗？', 'dataset_id': '1f777fa3-26db-4237-98d5-075abc07a84f', 'dataset_name': '多轮改写Prompt', 'document_id': '92e0f30d-1f30-46f0-8377-59ab0fb6eb93', 'document_name': '多轮改写prompt_带机器人回复.txt', 'id': '61657591-f610-44f0-84ec-67cedcb66447', 'mock_id': '1', 'position': 0, 'score': 0.511053, 'sentences': [{'content': '带机器人回复：请你扮演一个智能搜索改写补全机器人，请根据User的搜索历史以及对应的搜索结果，对最后一句话先进行主语继承改写，然后进行上下文信息补全，注意：不要改变原文的意思，答案要尽可能简洁，不要直接回答该问题，不要输出多于的内容。\\\\n\\\\n例子：\\\\n搜索历史：\\\\nUser：今天上午你干嘛了\\\\nAssistant：去打篮球啦\\\\nUser：好玩吗？', 'id': '1f777fa3-26db-4237-98d5-075abc07a84f-5992356ea8c0c05485388623218e134e-975ec17bbf8206762df7cfb24a5cd85e-97468bdaf0accef718118a2b742d5cc0', 'score': 0.628708, 'source': None}], 'title': '多轮改写prompt_带机器人回复.txt', 'tokens': 0, 'type': 'engine', 'word_count': 188}]}, 'token_usage': {'prompt_tokens': 933, 'completion_tokens': 12, 'total_tokens': 945}}\n",
      "{'content': '根据我所掌握的信息，目前无法直接给出大连理工大学校十一人制超级组金靴的确切人选。金靴奖通常授予在比赛中进球最多的球员，而这一信息并未在提供的文章中明确提及。\\n\\n不过，从提供的文章中，我们可以了解到大连理工大学举办的“校庆杯”十一人制足球赛的一些情况，包括比赛的规模、参与人数以及部分比赛结果。例如，第四届“校庆杯”中，经管学院最终获得了超级组的冠军。但这些文章中并未具体提到超级组金靴奖的获得者。\\n\\n要确定金靴奖的得主，通常需要查看比赛的详细统计数据，特别是球员的进球数。因此，如果您对这个问题有进一步的关注，建议您直接咨询大连理工大学的相关体育部门或足球赛事组织者，以获取最准确的信息。\\n\\n总的来说，目前我无法直接给出大连理工大学校十一人制超级组金靴的答案，但希望以上信息能对您有所帮助。', 'name': 'msg', 'mtype': 'dict', 'id': 'fa8e4583-2196-401d-af09-7e559950acd8', 'extra': {}, 'token_usage': {'prompt_tokens': 13, 'completion_tokens': 186, 'total_tokens': 199}}\n",
      "{'content': '你好！', 'name': 'msg', 'mtype': 'str', 'id': 'b38820aa-29e5-4e05-ad9d-83c8bc45b139'}\n",
      "{'content': '你好！很高兴与你交流。请问你有什么想要聊的？无论是日常琐事、学术问题还是其他任何话题，我都愿意倾听并尽力提供帮助和信息。', 'name': 'msg', 'mtype': 'dict', 'id': '5687bce2-5315-44c3-896a-5e04e0b3f094', 'extra': {}, 'token_usage': {'prompt_tokens': 3, 'completion_tokens': 31, 'total_tokens': 34}}\n"
     ]
    }
   ],
   "source": [
    "import json\n",
    "cursor.execute(\"SELECT message_value FROM appbuilder_session_messages;\")  \n",
    "for row in cursor.fetchall():  \n",
    "    print(json.loads(row[0]))"
   ]
  },
  {
   "cell_type": "markdown",
   "id": "5ff82880",
   "metadata": {},
   "source": [
    "以id查询相关的agent_runtime信息"
   ]
  },
  {
   "cell_type": "code",
   "execution_count": 12,
   "id": "e79e2554",
   "metadata": {
    "vscode": {
     "languageId": "shellscript"
    }
   },
   "outputs": [
    {
     "name": "stdout",
     "output_type": "stream",
     "text": [
      "bcf43e52-73c5-4137-978e-4446099694e3\n",
      "d6c1f624-6c23-4320-922a-71dbf27492ae\n",
      "e2e13479-07a6-4e9b-a5b4-daf8b70c626e\n",
      "answer\n",
      "{'content': '你好，我是百度研发的知识增强大语言模型，中文名是文心一言，英文名是ERNIE Bot。我能够与人对话互动，回答问题，协助创作，高效便捷地帮助人们获取信息、知识和灵感。', 'name': 'msg', 'mtype': 'dict', 'id': '5bdb9378-fde8-4fa2-8023-89ab181cfa59', 'extra': {}, 'token_usage': {'prompt_tokens': 2, 'completion_tokens': 42, 'total_tokens': 44}}\n",
      "2024-07-29 17:04:30.658339\n",
      "2024-07-29 17:04:30.658348\n",
      "0\n"
     ]
    }
   ],
   "source": [
    "cursor.execute(\"SELECT * FROM appbuilder_session_messages WHERE id = 'bcf43e52-73c5-4137-978e-4446099694e3';\")  \n",
    "for tuple in cursor.fetchall():\n",
    "    for message in tuple:\n",
    "        try: \n",
    "            message = json.loads(message)\n",
    "            print(message)\n",
    "        except:\n",
    "            print(message)"
   ]
  }
 ],
 "metadata": {
  "kernelspec": {
   "display_name": "Python 3 (ipykernel)",
   "language": "python",
   "name": "python3"
  },
  "language_info": {
   "codemirror_mode": {
    "name": "ipython",
    "version": 3
   },
   "file_extension": ".py",
   "mimetype": "text/x-python",
   "name": "python",
   "nbconvert_exporter": "python",
   "pygments_lexer": "ipython3",
   "version": "3.9.12"
  }
 },
 "nbformat": 4,
 "nbformat_minor": 5
}
