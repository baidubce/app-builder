{
 "cells": [
  {
   "cell_type": "markdown",
   "metadata": {},
   "source": [
    "# Run\n",
    "\n",
    "本文档描述 Assistants API 中与 Run 相关的接口。"
   ]
  },
  {
   "cell_type": "markdown",
   "metadata": {},
   "source": [
    "## 环境准备\n",
    "\n",
    "首先需要安装AppBuilder-SDK代码库，若已在开发环境安装，则可跳过此步。\n",
    "\n",
    "**注意：**: appbuilder-sdk 的python版本要求 3.9+，安装的SDK version >= 0.7.0"
   ]
  },
  {
   "cell_type": "code",
   "execution_count": null,
   "metadata": {
    "vscode": {
     "languageId": "shellscript"
    }
   },
   "outputs": [],
   "source": [
    "!python3 -m pip install appbuilder-sdk"
   ]
  },
  {
   "cell_type": "code",
   "execution_count": null,
   "metadata": {},
   "outputs": [],
   "source": [
    "import os\n",
    "import appbuilder\n",
    "\n",
    "# 配置你的密钥，主要在这之前需要首先申请Assistant API的内测资格\n",
    "os.environ[\"APPBUILDER_TOKEN\"] = \"your_appbuilder_token\""
   ]
  },
  {
   "cell_type": "markdown",
   "metadata": {},
   "source": [
    "## Run相关函数\n",
    "\n",
    "### 运行\n",
    "\n",
    "#### 功能介绍\n",
    "\n",
    "一个 Assistant 的一次具体运行，区分初次对话和继续对话两种情况"
   ]
  },
  {
   "cell_type": "code",
   "execution_count": null,
   "metadata": {},
   "outputs": [],
   "source": [
    "# 首先创建一个asstistant\n",
    "assistant = appbuilder.assistant.assistants.create(\n",
    "    name=\"test_assistant\",\n",
    "    description=\"test assistant\",\n",
    "    instructions=\"每句话回复前都加上我是秦始皇\"\n",
    ")\n",
    "\n",
    "# 创建一个thread会话\n",
    "thread = appbuilder.assistant.threads.create()\n",
    "appbuilder.assistant.threads.messages.create(\n",
    "    thread_id=thread.id,\n",
    "    content=\"hello world\",\n",
    ")\n",
    "\n",
    "# 运行会话\n",
    "run_result = appbuilder.assistant.threads.runs.run(\n",
    "    thread_id=thread.id,\n",
    "    assistant_id=assistant.id,\n",
    ")\n",
    "\n",
    "# 打印对话运行信息\n",
    "print(run_result)"
   ]
  },
  {
   "cell_type": "markdown",
   "metadata": {},
   "source": [
    "### 列出对应thread的历史run记录\n",
    "\n",
    "#### 功能介绍\n",
    "\n",
    "列出对应thread的历史run记录"
   ]
  },
  {
   "cell_type": "code",
   "execution_count": null,
   "metadata": {},
   "outputs": [],
   "source": [
    "# 列出对应thread的历史run记录,使用limit参数限制返回数量，默认返回20条\n",
    "run_list = appbuilder.assistant.threads.runs.list(\n",
    "    thread_id=thread.id,\n",
    "    limit=5\n",
    ")\n",
    "\n",
    "# 打印获取到的历史run信息\n",
    "for run_data in run_list.data:\n",
    "    print(run_data)"
   ]
  },
  {
   "cell_type": "markdown",
   "metadata": {},
   "source": [
    "### 查询对应run的信息\n",
    "\n",
    "#### 功能介绍\n",
    "\n",
    "根据thread_id和run_id，查询run的详情"
   ]
  },
  {
   "cell_type": "code",
   "execution_count": null,
   "metadata": {},
   "outputs": [],
   "source": [
    "run_query = appbuilder.assistant.threads.runs.query(\n",
    "    thread_id=thread.id,\n",
    "    run_id=run_result.id\n",
    ")\n",
    "\n",
    "# 打印获取到的目标run信息\n",
    "print(run_query)"
   ]
  },
  {
   "cell_type": "markdown",
   "metadata": {},
   "source": [
    "### 列出对应run的历史step记录\n",
    "\n",
    "#### 功能介绍\n",
    "\n",
    "根据thread_id和run_id，列出对应run的历史step记录"
   ]
  },
  {
   "cell_type": "code",
   "execution_count": null,
   "metadata": {},
   "outputs": [],
   "source": [
    "step_list = appbuilder.assistant.threads.runs.steps.list(\n",
    "    thread_id=thread.id,\n",
    "    run_id=run_result.id,\n",
    ")\n",
    "\n",
    "# 打印对应run的历史step记录\n",
    "for step_data in step_list.data:\n",
    "    print(step_data)"
   ]
  },
  {
   "cell_type": "markdown",
   "metadata": {},
   "source": [
    "### 查询对应step的信息\n",
    "\n",
    "#### 功能介绍\n",
    "\n",
    "根据thread_id，run_id和step_id，查询对应step的信息"
   ]
  },
  {
   "cell_type": "code",
   "execution_count": null,
   "metadata": {},
   "outputs": [],
   "source": [
    "last_step = step_list.data[-1]\n",
    "last_step_id = last_step.id\n",
    "\n",
    "step_query = appbuilder.assistant.threads.runs.steps.query(\n",
    "    thread_id=thread.id,\n",
    "    run_id=run_result.id,\n",
    "    step_id=last_step_id,\n",
    ")\n",
    "\n",
    "# 打印查询到的对应step的信息\n",
    "print(step_query)"
   ]
  }
 ],
 "metadata": {
  "language_info": {
   "name": "python"
  }
 },
 "nbformat": 4,
 "nbformat_minor": 2
}
