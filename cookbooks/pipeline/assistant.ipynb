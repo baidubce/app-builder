{
 "cells": [
  {
   "cell_type": "markdown",
   "metadata": {},
   "source": [
    "# Assistant\n",
    "\n",
    "本文档描述 Assistants API 中 与 Assistant 相关函数调用"
   ]
  },
  {
   "cell_type": "markdown",
   "metadata": {},
   "source": [
    "## 环境准备\n",
    "\n",
    "首先需要安装AppBuilder-SDK代码库，若已在开发环境安装，则可跳过此步。\n",
    "\n",
    "**注意：**: appbuilder-sdk 的python版本要求 3.9+，安装的SDK version >= 0.7.0"
   ]
  },
  {
   "cell_type": "code",
   "execution_count": null,
   "metadata": {
    "vscode": {
     "languageId": "shellscript"
    }
   },
   "outputs": [],
   "source": [
    "!python3 -m pip install appbuilder-sdk"
   ]
  },
  {
   "cell_type": "code",
   "execution_count": null,
   "metadata": {},
   "outputs": [],
   "source": [
    "import os\n",
    "import appbuilder\n",
    "\n",
    "# 配置你的密钥，主要在这之前需要首先申请Assistant API的内测资格\n",
    "os.environ[\"APPBUILDER_TOKEN\"] = \"your_appbuilder_token\""
   ]
  },
  {
   "cell_type": "markdown",
   "metadata": {},
   "source": [
    "## Assistant相关函数\n",
    "\n",
    "### 创建Assistant\n",
    "\n",
    "#### 功能介绍\n",
    "\n",
    "创建一个Assistant"
   ]
  },
  {
   "cell_type": "code",
   "execution_count": null,
   "metadata": {},
   "outputs": [],
   "source": [
    "\n",
    "assistant = appbuilder.assistant.assistants.create(\n",
    "            model = \"ERNIE-4.0-8K\",\n",
    "            name=\"测试\",\n",
    "            description=\"你是一个热心的朋友\",\n",
    "            instructions=\"请用友善的语气回答问题\",\n",
    "            tools=[\n",
    "                {'type': 'function', 'function': \"这里为你需要调用的appbuilder tool\"}\n",
    "            ]\n",
    "        )\n",
    "\n",
    "# 打印创建的assistant\n",
    "print(assistant)"
   ]
  },
  {
   "cell_type": "markdown",
   "metadata": {},
   "source": [
    "### 修改Assistant\n",
    "\n",
    "#### 功能介绍\n",
    "\n",
    "根据assistant_id修改一个已创建的Assistant"
   ]
  },
  {
   "cell_type": "code",
   "execution_count": null,
   "metadata": {},
   "outputs": [],
   "source": [
    "# 更新已经创建的āssistant的信息\n",
    "appbuilder_update=appbuilder.assistant.assistants.update(\n",
    "    assistant_id = assistant.id,# 已经创建的Assistant ID\n",
    "    model=\"ERNIE-4.0-8K\",\n",
    "    name=\"更新Assistants\",\n",
    "    description = \"test\"\n",
    ")\n",
    "\n",
    "# 获取更新后的assistant信息 \n",
    "print(appbuilder_update)"
   ]
  },
  {
   "cell_type": "markdown",
   "metadata": {},
   "source": [
    "### 查询assistant列表\n",
    "\n",
    "#### 功能介绍\n",
    "\n",
    "查询当前用户已创建的assistant列表"
   ]
  },
  {
   "cell_type": "code",
   "execution_count": null,
   "metadata": {},
   "outputs": [],
   "source": [
    "assistant_list = appbuilder.assistant.assistants.list()\n",
    "\n",
    "# 打印出当前账户所有的assistant信息\n",
    "for assistant_data in assistant_list.data:\n",
    "    print(assistant_data)"
   ]
  },
  {
   "cell_type": "markdown",
   "metadata": {},
   "source": [
    "### 查询assistant\n",
    "\n",
    "#### 功能介绍\n",
    "\n",
    "根据assistant_id查询相应的Assistant信息"
   ]
  },
  {
   "cell_type": "code",
   "execution_count": null,
   "metadata": {},
   "outputs": [],
   "source": [
    "assistant_query = appbuilder.assistant.assistants.query(\n",
    "    assistant_id = assistant.id,\n",
    ")\n",
    "\n",
    "# 打印出查询的assistant相关信息\n",
    "print(assistant_query)"
   ]
  },
  {
   "cell_type": "markdown",
   "metadata": {},
   "source": [
    "### 挂载File到Assistant\n",
    "\n",
    "#### 功能介绍\n",
    "\n",
    "指定file_id和assistant_id，挂载File到对应的Assistant"
   ]
  },
  {
   "cell_type": "code",
   "execution_count": null,
   "metadata": {},
   "outputs": [],
   "source": [
    "# 首先上传一个测试文件\n",
    "file_path = \"./data/test01.png\"\n",
    "file = appbuilder.assistant.assistants.files.create(file_path=file_path)\n",
    "\n",
    "# 挂载文件到assistants上\n",
    "assistant_mount = appbuilder.assistant.assistants.mount_files(\n",
    "    assistant_id = assistant.id,\n",
    "    file_id = file.id,\n",
    ")"
   ]
  },
  {
   "cell_type": "markdown",
   "metadata": {},
   "source": [
    "### 查询Assistant挂载的File列表\n",
    "\n",
    "#### 功能介绍\n",
    "\n",
    "查询Assistant挂载的File列表"
   ]
  },
  {
   "cell_type": "code",
   "execution_count": null,
   "metadata": {},
   "outputs": [],
   "source": [
    "assistant_files_list = appbuilder.assistant.assistants.mounted_files_list(\n",
    "    assistant_id = assistant.id,\n",
    ")\n",
    "\n",
    "# 打印当前assistant上挂载的file文件列表\n",
    "for file in assistant_files_list.data:\n",
    "    print(file)"
   ]
  },
  {
   "cell_type": "markdown",
   "metadata": {},
   "source": [
    "### 解绑Assistant挂载的File\n",
    "\n",
    "#### 功能介绍\n",
    "\n",
    "指定assistant_id和file_id，解绑Assistant中对应File的关联"
   ]
  },
  {
   "cell_type": "code",
   "execution_count": null,
   "metadata": {},
   "outputs": [],
   "source": [
    "# 解绑Assistant中对应File的关联\n",
    "assistant_files_delete = appbuilder.assistant.assistants.unmount_files(\n",
    "    assistant_id = assistant.id,\n",
    "    file_id = file.id,\n",
    ")"
   ]
  },
  {
   "cell_type": "markdown",
   "metadata": {},
   "source": [
    "### 删除assistant\n",
    "\n",
    "#### 功能介绍\n",
    "\n",
    "根据assistant_id删除指定Assitant"
   ]
  },
  {
   "cell_type": "code",
   "execution_count": null,
   "metadata": {},
   "outputs": [],
   "source": [
    "assistant_delete = appbuilder.assistant.assistants.delete(\n",
    "    assistant_id = assistant.id,\n",
    ")\n",
    "\n",
    "# 获取到assistant_id以及是否删除成功信息\n",
    "print(assistant_delete)"
   ]
  }
 ],
 "metadata": {
  "language_info": {
   "name": "python"
  }
 },
 "nbformat": 4,
 "nbformat_minor": 2
}
