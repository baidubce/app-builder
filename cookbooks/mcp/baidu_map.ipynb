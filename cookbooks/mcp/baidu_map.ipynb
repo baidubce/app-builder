{
 "cells": [
  {
   "cell_type": "markdown",
   "id": "8ce67390",
   "metadata": {},
   "source": [
    "# MCP协议加持，千帆AppBuilder让语音导航更智能，开发更轻松\n",
    "\n",
    "MCP最近热度很高，作为国内首家支持MCP协议的大模型应用开发平台，千帆AppBuilder完成兼容后，用户可通过千帆AppBuilder轻松调用MCP Server生态中的海量工具，快速扩展端和云端的工具数量。我们的用户，也在利用这个强大的功能，打破不同工具间壁垒，实现更多想法。\n",
    "\n",
    "比如，爷爷奶奶都会用的百度地图，可以在千帆AppBuilder的连接下，成为你的开发利器：\n",
    "\n",
    "百度地图核心API已全面兼容MCP协议——你在千帆AppBuilder开发的应用，可以轻松调用百度地图的各项功能。对着手机说出“人话需求”，AI自动规划路线、检索地点、查天气、查路况。\n",
    "\n",
    "具体如何实现？本文将带你一步步了解如何通过千帆AppBuilder、百度地图和MCP协议的结合，通过SDK的方式进行开发，打造出更智能的应用。我们还会提供详细的安装和配置步骤，帮助你快速上手，轻松实现功能扩展。\n",
    "\n",
    "## 官方代码及文档\n",
    "\n",
    "[百度地图 MCP Server](https://github.com/baidu-maps/mcp)\n",
    "\n",
    "## 安装配置步骤\n",
    "\n",
    "### 配置基础环境\n",
    "\n",
    "#### 1、安装Python\n",
    "\n",
    "大部分的MCP Server，例如Unity和Blender，都是Python SDK\n",
    "安装Python最简单的方法是安装Miniconda\n",
    "**注意：请确保安装的python>=3.12**\n",
    "\n",
    "[Miniconda官网](https://www.anaconda.com/docs/getting-started/miniconda/install)\n",
    "\n",
    "#### 2、安装包管理器uv\n",
    "\n",
    "uv是pip的替代，能够快速启动和管理项目，后续每个MCP服务都需要用uvx命令启动\n",
    "\n",
    "[包管理器uv安装教程](https://docs.astral.sh/uv/getting-started/installation)\n",
    "\n",
    "#### 3、安装Node.js\n",
    "\n",
    "[Node.js安装教程](https://nodejs.org/en/download)\n",
    "\n",
    "#### 4、下载Appbuilder-SDK\n",
    "\n",
    "为了实现Appbuilder-SDK对百度地图 MCP Server的代码态调用，需要在conda环境下载appbuilder-sdk包\n"
   ]
  },
  {
   "cell_type": "code",
   "execution_count": null,
   "id": "96a39a88",
   "metadata": {
    "vscode": {
     "languageId": "shellscript"
    }
   },
   "outputs": [],
   "source": [
    "!pip install appbuilder-sdk"
   ]
  },
  {
   "cell_type": "markdown",
   "id": "6e7d417d",
   "metadata": {},
   "source": [
    "#### 获取百度地图API Key\n",
    "\n",
    "在百度地图开放平台申请一个API Key，记下来\n",
    "[百度地图开放平台](https://lbsyun.baidu.com/apiconsole/key)\n",
    "\n",
    "## 百度智能云千帆AppBuilder代码态调用\n",
    "\n",
    "如何通过代码来调用百度地图的MCP服务，接入到我自己的应用中呢？\n",
    "\n",
    "可以用百度智能云企业级大模型应用开发平台-千帆AppBuidler的代码态，手搓一个MCP的客户端。\n",
    "\n",
    "### 1、进入百度智能云千帆AppBuilder主页\n",
    "\n",
    "进入百度智能云千帆AppBuilder主页，免费试用\n",
    "\n",
    "- [百度智能云千帆AppBuilder主页](https://qianfan.cloud.baidu.com/appbuilder)\n",
    "\n",
    "### 2、创建【自主规划Agent】\n",
    "\n",
    "- [Appbuilder 自主规划Agent概述](https://cloud.baidu.com/doc/AppBuilder/s/km4i50me8)\n",
    "\n",
    "- [快速创建应用](https://cloud.baidu.com/doc/AppBuilder/s/Om0ks82ow)\n",
    "\n",
    "\n",
    "![](https://bj.bcebos.com/v1/appbuilder-sdk-components/%E5%88%9B%E5%BB%BA%E8%87%AA%E4%B8%BB%E8%A7%84%E5%88%92agent.png?authorization=bce-auth-v1%2FALTAKGa8m4qCUasgoljdEDAzLm%2F2025-04-17T08%3A50%3A47Z%2F-1%2Fhost%2F6fd0d26bd1d815dd18312100a95ee41b4842eb4f8448e05e86e6468b6945423b)\n",
    "\n",
    "### 3、输入一句简单的提示词，让AI自动扩写\n",
    "\n",
    "![](https://bj.bcebos.com/v1/appbuilder-sdk-components/%E5%88%9B%E5%BB%BA%E8%87%AA%E4%B8%BB%E8%A7%84%E5%88%92agent.png?authorization=bce-auth-v1%2FALTAKGa8m4qCUasgoljdEDAzLm%2F2025-04-17T03%3A23%3A29Z%2F-1%2Fhost%2F67b7a5d0c38c12f79bc925e995c8f09775eb37bfe9025f61a593080c3c05c82c)\n",
    "\n",
    "### 4、删除自动配置的组件\n",
    "\n",
    "因为我们调用MCP工具，所以不需要使用AppBuilder自带组件\n",
    "\n",
    "### 5、配置模型\n",
    "\n",
    "将规划模型和问答模型的思考轮数拉满\n",
    "\n",
    "![](https://bj.bcebos.com/v1/appbuilder-sdk-components/%E9%85%8D%E7%BD%AE%E6%A8%A1%E5%9E%8B.png?authorization=bce-auth-v1%2FALTAKGa8m4qCUasgoljdEDAzLm%2F2025-04-17T03%3A27%3A44Z%2F-1%2Fhost%2Ffd031f86bf71a0ca7e32db70533a76db9c39757a139f94b34f487eae9f860534)\n",
    "\n",
    "### 6、发布应用\n",
    "\n",
    "发布应用，在【个人空间】中，查看应用ID，记下来\n",
    "\n",
    "![](https://bj.bcebos.com/v1/appbuilder-sdk-components/%E5%8F%91%E5%B8%83Agent%E5%BA%94%E7%94%A8.png?authorization=bce-auth-v1%2FALTAKGa8m4qCUasgoljdEDAzLm%2F2025-04-17T03%3A30%3A26Z%2F-1%2Fhost%2Ff66b1bef4bb432ddd59ca07189ed210fb475c6363559dfd0c7ab53ef47a6240f)\n",
    "\n",
    "### 7、创建Appbuilder API key\n",
    "\n",
    "- [Appbuilder API key授权](https://cloud.baidu.com/doc/AppBuilder/s/lm68r8e6i)\n",
    "\n",
    "- [Appbuilder API 控制台管理中心](https://console.bce.baidu.com/iam/#/iam/apikey/list)\n",
    "\n",
    "在【API Key】界面中，创建一个新的Key，并添加刚刚创建的应用，记下来。\n",
    "\n",
    "![](https://bj.bcebos.com/v1/appbuilder-sdk-components/%E5%88%9B%E5%BB%BAAPI-key.png?authorization=bce-auth-v1%2FALTAKGa8m4qCUasgoljdEDAzLm%2F2025-04-17T10%3A15%3A21Z%2F-1%2Fhost%2F1bf9e89165ee4fe92a2a69f09af20a394f0a8a6afc672f1e795ad408a89c15e1)\n",
    "\n",
    "同时配置API key权限，将上文创建的应用添加到API key权限中。\n",
    "\n",
    "![](https://bj.bcebos.com/v1/appbuilder-sdk-components/%E6%B7%BB%E5%8A%A0Agent%E6%9D%83%E9%99%90.png?authorization=bce-auth-v1%2FALTAKGa8m4qCUasgoljdEDAzLm%2F2025-04-17T03%3A33%3A59Z%2F-1%2Fhost%2Feda8af9c241207cf07ff2edb85b2271ce48aade84775ca2273580ad13f03a5dc)\n",
    "\n",
    "8、配置代码\n",
    "\n",
    "将下述链接复制到浏览器，可下载代码。解压缩文件，并更新代码内容。\n",
    "\n",
    "https://qianfandeveloper.bj.bcebos.com/baidumap_mcp.zip\n",
    "\n",
    "* 如下述代码所示，在map.py中，将`BAIDU_MAPS_API_KEY`换成你的自己的百度地图API密钥，**注意：此步骤需要到下载好的map.py文件中操作**。"
   ]
  },
  {
   "cell_type": "code",
   "execution_count": null,
   "id": "69787fb8",
   "metadata": {},
   "outputs": [],
   "source": [
    "# map.py \n",
    "import os\n",
    "import copy\n",
    "import httpx\n",
    "from asyncio import sleep\n",
    " \n",
    "from mcp.server.fastmcp import FastMCP, Context\n",
    " \n",
    "# 创建MCP服务器实例\n",
    "mcp = FastMCP(\"mcp-server-baidu-maps\")\n",
    "# 设置API密钥，用于调用百度地图API，获取方式请参考：https://lbsyun.baidu.com/apiconsole/key\n",
    "os.environ[\"BAIDU_MAPS_API_KEY\"] = \"UCyWCyjgnuXKrQMngmJ53vKXXXXXXXXX\" # 换成你的自己的百度地图API密钥\n",
    "api_key = os.getenv('BAIDU_MAPS_API_KEY')\n",
    "api_url = \"https://api.map.baidu.com\""
   ]
  },
  {
   "cell_type": "markdown",
   "id": "e05e6628",
   "metadata": {},
   "source": [
    "* 如下述代码所示，在test.py文件中，将`APPBUILDER_TOKEN`更换成自己的Apppbuilder API Key，并将`app_id`更换成自己的应用ID，**注意：此步骤需要到下载好的test.py文件中操作**"
   ]
  },
  {
   "cell_type": "code",
   "execution_count": null,
   "id": "c32b3a7a",
   "metadata": {},
   "outputs": [],
   "source": [
    "import os\n",
    "import asyncio\n",
    "import appbuilder\n",
    "from appbuilder.core.console.appbuilder_client.async_event_handler import (\n",
    "    AsyncToolCallEventHandler,\n",
    ")\n",
    "# from appbuilder.modelcontextprotocol.client import MCPClient\n",
    "\n",
    "from appbuilder.mcp_server.client import MCPClient\n",
    "\n",
    "### 用户Token\n",
    "os.environ[\"APPBUILDER_TOKEN\"] = (\n",
    "    \"bce-v3/ALTAK-ZOijvKh5GJYQHBAnfPNzN/a71711cc2b86a63f119540d55XXXXXXXX\" # 将APPBUILDER_TOKEN更换成自己的Apppbuilder API Key\n",
    ")\n",
    "async def main():\n",
    "    # appbuilder.logger.setLoglevel(\"DEBUG\")\n",
    "    ### 发布的应用ID\n",
    "    app_id = \"a2410cfc-3768-42e4-b0c8-e5XXXXXXXXXX\" # 将app_id更换成自己的应用ID\n",
    "    appbuilder_client = appbuilder.AsyncAppBuilderClient(app_id)\n",
    "    mcp_client = MCPClient()\n",
    "    ### 注意这里的路径为MCP Server文件在本地的相对路径\n",
    "    await mcp_client.connect_to_server(\"./map.py\")\n",
    "    print(mcp_client.tools)\n",
    "    \n",
    "    tools = mcp_client.tools\n",
    "    event_handler = AsyncToolCallEventHandler(mcp_client, functions=[])\n",
    "    conversation_id = await appbuilder_client.create_conversation()\n",
    "    with await appbuilder_client.run_with_handler(\n",
    "        conversation_id=conversation_id,\n",
    "        query=\"我住在北京亮马河大厦，请帮我规划北京赏花一日游\",\n",
    "        tools=tools,\n",
    "        event_handler=event_handler,\n",
    "    ) as run:\n",
    "        await run.until_done()\n",
    "    \n",
    "    await appbuilder_client.http_client.session.close()\n",
    "\n",
    "if __name__ == \"__main__\":\n",
    "    appbuilder.logger.setLoglevel(\"DEBUG\")\n",
    "    loop = asyncio.get_event_loop()\n",
    "    loop.run_until_complete(main())"
   ]
  },
  {
   "cell_type": "markdown",
   "id": "5e6c0e92",
   "metadata": {},
   "source": [
    "9、运行代码\n",
    "\n",
    "在命令行中运行test.py"
   ]
  },
  {
   "cell_type": "code",
   "execution_count": null,
   "id": "f0b632dc",
   "metadata": {
    "vscode": {
     "languageId": "shellscript"
    }
   },
   "outputs": [],
   "source": [
    "python3 test.py"
   ]
  },
  {
   "cell_type": "markdown",
   "id": "5f694b20",
   "metadata": {},
   "source": [
    "控制台展示Agent运行结果\n",
    "\n",
    "![](https://bj.bcebos.com/v1/appbuilder-sdk-components/%E7%99%BE%E5%BA%A6%E5%9C%B0%E5%9B%BEMCP%E6%9C%8D%E5%8A%A1%E8%BF%90%E8%A1%8C%E7%BB%93%E6%9E%9C.png?authorization=bce-auth-v1%2FALTAKGa8m4qCUasgoljdEDAzLm%2F2025-04-17T03%3A42%3A49Z%2F-1%2Fhost%2Ff405b3cf8faf2592bf8146a9c4b862c6935ca0ef5114a60c504fe9d0a773a517)\n",
    "\n",
    "## 常用指令\n",
    "\n",
    "* 现在上海中山公园附近堵车吗\n",
    "* 今天上海辰山植物园天气怎么样\n",
    "* 我住在北京亮马河大厦，请帮我规划北京赏花一日游\n",
    "* 从上海环球港，开车导航到同济大学四平路校区"
   ]
  }
 ],
 "metadata": {
  "language_info": {
   "name": "python"
  }
 },
 "nbformat": 4,
 "nbformat_minor": 5
}
