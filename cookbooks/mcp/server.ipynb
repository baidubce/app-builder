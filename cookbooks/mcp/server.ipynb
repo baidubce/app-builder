{
 "cells": [
  {
   "cell_type": "markdown",
   "metadata": {},
   "source": [
    "# 前言-学习本项目你可以获得什么\n",
    "- 理论学习：了解MCP Server的基础知识\n",
    "- 上手实操：入门MCP Server的使用方式\n",
    "- 上手实操：将AppBuilder组件转换为MCP Server tool，并在client中使用"
   ]
  },
  {
   "cell_type": "markdown",
   "metadata": {},
   "source": [
    "# 1. 项目背景\n",
    "### 1.1 什么是MCP Server Tool\n",
    "[Model Context Protocol (MCP)](https://modelcontextprotocol.io/introduction)是Anthropic推出的一个开放协议，提供了一种将 AI 模型连接到不同数据源和工具的标准化方式，可实现应用与外部数据源和工具之间的无缝集成。\n",
    "\n",
    "MCP基础架构由以下几部分组成：\n",
    "- MCP Hosts: 希望通过 MCP 访问数据的程序，例如 Claude Desktop、IDE 或 AI 工具\n",
    "- MCP Clients: 与服务器保持 1:1 连接的协议客户端\n",
    "- MCP Servers: 通过MCP协议公开特定功能的程序\n",
    "- Local Data Sources: MCP协议可以安全访问的本机文件、数据库、服务等\n",
    "- Remote Services: MCP Server可以访问的远程服务\n",
    "\n",
    "其中MCP Server包含以下几类：\n",
    "- Resources: 上下文和数据，供用户或人工智能模型使用\n",
    "- Prompts: 为用户提供模板化的消息和工作流程\n",
    "- Tools: AI模型调用的工具，使模型能够与外部系统交互，例如查询数据库、调用 API 或执行计算\n",
    "\n",
    "MCP Server Tools有以下特征：\n",
    "- 每个工具都由名称唯一标识，并包含描述其架构的元数据\n",
    "- 被设计为模型控制的，这意味着语言模型可以根据其上下文理解和用户的提示自动发现和调用工具\n",
    "\n",
    "MCP Server Tool 示例：\n",
    "- MCP quick-start server: [weather server](https://modelcontextprotocol.io/quickstart/server)\n",
    "- MCP example servers: [example servers](https://modelcontextprotocol.io/examples)\n",
    "\n",
    "\n",
    "### 1.2 什么是AppBuilder组件\n",
    "SDK提供了40+个源于百度生态的优质组件，列表可见[组件列表](https://cloud.baidu.com/doc/AppBuilder/s/Glqb6dfiz#3%E3%80%81%E5%BC%80%E9%80%9A%E7%BB%84%E4%BB%B6%E6%9C%8D%E5%8A%A1), 调用前需要申领[免费试用额度](https://console.bce.baidu.com/ai/#/ai/apaas/overview/resource/getFree)\n",
    "\n",
    "目前支持转换为MCP Server Tool的组件包括：\n",
    "| 组件名称 | 组件描述 |\n",
    "| --- | --- |\n",
    "| AnimalRecognition | 动物识别，可用于识别一张图片，即对于输入的一张图片（可正常解码，且长宽比较合适），输出动物识别结果。 |\n",
    "| ImageUnderstand | 图像内容理解，输出理解图片后的文本信息。 |\n",
    "| Translation | 文本翻译组件，提供多种语言互译的在线文本翻译服务。支持术语定制功能，用户可对翻译结果进行干预，快速提高翻译质量。可广泛应用于移动端、PC网站、智能硬件等不同产品形态中，满足多领域、多场景的翻译需求。 |\n",
    "| GeneralOCR | 通用文字识别组件，支持多场景、多语种、高精度的文字识别服务，对图片全部文字内容进行检测识别。 |\n",
    "| StyleRewrite | 风格转写组件，可以基于生成式大模型对文本的风格进行改写。支持多种文本风格，包括营销、客服、直播、激励及教学话术。 |\n",
    "| HallucinationDetection | 幻觉检测，针对问答场景，检测答案中是否存在幻觉。 |\n",
    "| QRcodeOCR | 二维码识别，可对图片中的二维码、条形码进行检测和识别，返回存储的文字信息及其位置信息。 |\n",
    "| HandwriteOCR | 手写文字识别，图片中的手写中文、手写数字进行检测和识别，针对不规则的手写字体进行专项优化，识别准确率可达90%以上。 |\n",
    "| MixCardOCR | 身份证混贴识别，身份证混贴识别支持自动检测与识别身份证正反面在同一张图片上的场景，一次识别图片中身份证正反面所有字段。 |\n",
    "| TableOCR | 表格文字识别，可支持识别图片中的表格内容，返回各表格的表头表尾内容、单元格文字内容及其行列位置信息，全面覆盖各类表格样式，包括常规有线表格、无线表格、含合并单元格表格。同时，支持多表格内容识别。 |\n",
    "| Text2Image | 文生图（AI作画-高级版），基于文心大模型，可以根据用户输入的文本，自动创作不限定风格的图，为内容创作者提供灵感和高质量配图。 |\n",
    "| StyleWriting | 风格写作组件，是一款基于生成式大模型进行文本创作的工具，支持多种风格，包括B站、小红书等，适用于编写文案、广告等多种场景。 |\n",
    "| TreeMind | 树图，提供智能思维导图制作工具和丰富的模板，支持脑图、逻辑图、树形图、鱼骨图、组织架构图、时间轴、时间线等多种专业格式。 |\n",
    "| ASR | 短语音识别，可以将音频流实时识别为文字，并返回每句话的开始和结束时间，适用于手机语音输入、语音搜索、人机对话等语音交互场景。 |\n",
    "| ObjectRecognition | 通用物体和场景识别组件，可以识别超过10万类常见物体和场景，接口返回大类及细分类的名称。广泛适用于图像或视频内容分析、拍照识图等业务场景 |\n",
    "| SimilarQuestion | 相似问生成组件，可以基于输入的问题，挖掘出与该问题相关的类似问题。广泛用于客服、问答等场景。 |\n",
    "| OralQueryGeneration | 口语化Query生成组件，可以基于输入文本生成与文档内容相关的Query。可用于增强文档索引等场景。 |\n",
    "| PlantRecognition | 植物识别，即对于输入的一张图片（可正常解码，且长宽比较合适），输出植物识别结果。 |\n",
    "\n",
    "即实现在appbuilder.core.components.v2目录下的组件。后续会逐步支持将所有的组件转化为MCP Server Tool。"
   ]
  },
  {
   "cell_type": "markdown",
   "metadata": {},
   "source": [
    "# 2. 项目介绍-将AppBuilder组件转换为MCP Server Tool\n",
    "## 2.1 如何定义自己的MCP Server Tool\n",
    "MCP协议提供两种方式定义server：low-level server 和 FastMCP server。其中low-level是基础接口，FastMCP是高级封装，是 MCP 协议的核心接口。它处理连接管理、协议合规性和消息路由。\n",
    "\n",
    "下面提供一个使用FastMCP定义自己的MCP Server Tool的简单示例："
   ]
  },
  {
   "cell_type": "code",
   "execution_count": null,
   "metadata": {},
   "outputs": [],
   "source": [
    "from mcp.server.fastmcp import FastMCP\n",
    "\n",
    "# Create a named server\n",
    "mcp = FastMCP(\"My App\")\n",
    "\n",
    "# Define a tool\n",
    "@mcp.tool()\n",
    "def add(a: int, b: int) -> int:\n",
    "    \"\"\"Tool that executes an addition\"\"\"\n",
    "    result = a + b\n",
    "    return result"
   ]
  },
  {
   "cell_type": "markdown",
   "metadata": {},
   "source": [
    "## 2.2 如何将AppBuilder组件转换为MCP Server Tool\n",
    "\n",
    "下面是一个简单的Server示例，将AppBuilder组件转换为MCP Server Tool："
   ]
  },
  {
   "cell_type": "code",
   "execution_count": null,
   "metadata": {},
   "outputs": [],
   "source": [
    "\"\"\"server.py\"\"\"\n",
    "\n",
    "import os\n",
    "from appbuilder.mcp.server import MCPComponentServer\n",
    "from appbuilder.core.components.v2 import Translation\n",
    "from appbuilder.core.components.v2 import Text2Image\n",
    "\n",
    "os.environ['APPBUILDER_TOKEN'] = '你的APPBUILDER_TOKEN'\n",
    "\n",
    "# 定义server\n",
    "server = MCPComponentServer(name=\"AB Component Server\")\n",
    "\n",
    "# 初始化组件实例\n",
    "translation = Translation()\n",
    "text2image = Text2Image()\n",
    "\n",
    "# 把组件作为tool添加到server\n",
    "server.add_component(translation)\n",
    "server.add_component(text2image)\n",
    "\n",
    "# 启动server\n",
    "server.run()"
   ]
  },
  {
   "cell_type": "markdown",
   "metadata": {},
   "source": [
    "将AppBuilder组件转换为MCP Server Tool，需要遵循以下步骤：\n",
    "1. 从appbuilder导入封装的MCPComponentServer和组件，注意目前只支持appbuilder.core.components.v2下的组件。\n",
    "2. 设置AppBuilder Token\n",
    "3. 调用MCPComponentServer定义自己的server, name可自定义。\n",
    "4. 初始化组件，并通过add_component方法将组件作为tool添加到server。\n",
    "5. 调用server的run方法启动server。\n",
    "\n",
    "基于MCPComponentServer定义的server，也可以通过装饰器的方式添加其它的tool和resource，例如："
   ]
  },
  {
   "cell_type": "code",
   "execution_count": null,
   "metadata": {},
   "outputs": [],
   "source": [
    "# Add custom tool\n",
    "@server.tool()\n",
    "def add(a: int, b: int) -> int:\n",
    "    \"\"\"Add two numbers\"\"\"\n",
    "    return a + b\n",
    "\n",
    "# Add dynamic resource\n",
    "@server.resource(\"greeting://{name}\")\n",
    "def get_greeting(name: str) -> str:\n",
    "    \"\"\"Get a personalized greeting\"\"\"\n",
    "    return f\"Hello, {name}!\""
   ]
  },
  {
   "cell_type": "markdown",
   "metadata": {},
   "source": [
    "# 3. Claude Client使用AppBuilder组件Tool\n",
    "## 3.1 配置claude服务器\n",
    "首先需要安装Claude桌面版，并填写配置文件claude_desktop_config.json，配置claude服务器。不同系统的配置文件路径：\n",
    "- macOS: ~/Library/Application Support/Claude/claude_desktop_config.json\n",
    "- Windows: %APPDATA%\\Claude\\claude_desktop_config.json   \n",
    "\n",
    "详情请参考：[For Claude Desktop Users](https://modelcontextprotocol.io/quickstart/user)\n",
    "\n",
    "claude_desktop_config.json示例："
   ]
  },
  {
   "cell_type": "code",
   "execution_count": null,
   "metadata": {
    "vscode": {
     "languageId": "powershell"
    }
   },
   "outputs": [],
   "source": [
    "{\n",
    "   \"mcpServers\": {\n",
    "     \"AB Component Server\": {\n",
    "       \"command\": \"/abs-path/to/python\",\n",
    "       \"args\": [\n",
    "         \"/abs-path/to/server.py\"\n",
    "       ]\n",
    "    }\n",
    "  }\n",
    "}"
   ]
  },
  {
   "cell_type": "markdown",
   "metadata": {},
   "source": [
    "配置文件说明：\n",
    "- command: 启动命令，这里需要填写python解释器的绝对路径\n",
    "- args: 启动参数，这里需要填写Server脚本的绝对路径"
   ]
  },
  {
   "cell_type": "markdown",
   "metadata": {},
   "source": [
    "配置完成后，重新打开claude桌面版，可以看到已定义的工具：\n",
    "![查看已添加的tool](image/claude_list_tool.png)"
   ]
  },
  {
   "cell_type": "markdown",
   "metadata": {},
   "source": [
    "使用工具，可以看到组件的输入输出及整体效果：\n",
    "![使用tool](image/claude_use_tool.png)"
   ]
  },
  {
   "cell_type": "markdown",
   "metadata": {},
   "source": [
    "# 4. 项目总结\n",
    "\n",
    "本项目主要：\n",
    "- 介绍了MCP协议及Server的概念和使用方式\n",
    "- 介绍了如何定义MCP Server tool\n",
    "- 如何将AppBuilder组件转换为MCP Server tool\n",
    "- 最后使用Claude客户端展示了AppBuilder组件作为MCP Server Tool的使用效果。"
   ]
  }
 ],
 "metadata": {
  "language_info": {
   "name": "python"
  }
 },
 "nbformat": 4,
 "nbformat_minor": 2
}
