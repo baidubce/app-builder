{
 "cells": [
  {
   "cell_type": "markdown",
   "metadata": {},
   "source": [
    "# 使用Appbuilder-SDK Trace框架实现对Client的跟踪\n",
    "\n",
    "- 如果没有安装phoenix，需要先安装phoenix，这里建议使用清华源镜像安装，推荐使用4.5.0版本"
   ]
  },
  {
   "cell_type": "code",
   "execution_count": null,
   "metadata": {
    "vscode": {
     "languageId": "shellscript"
    }
   },
   "outputs": [],
   "source": [
    "python3 -m pip install arize-phoenix==4.5.0 -i https://pypi.tuna.tsinghua.edu.cn/simple"
   ]
  },
  {
   "cell_type": "markdown",
   "metadata": {},
   "source": [
    "- 启动phoenix服务"
   ]
  },
  {
   "cell_type": "code",
   "execution_count": null,
   "metadata": {
    "vscode": {
     "languageId": "shellscript"
    }
   },
   "outputs": [],
   "source": [
    "appbuilder_trace_server"
   ]
  },
  {
   "cell_type": "markdown",
   "metadata": {},
   "source": [
    "- 使用ctrl+c停止phoenix服务\n",
    "\n",
    "### 启动Appbuilder-SDK TRACE"
   ]
  },
  {
   "cell_type": "code",
   "execution_count": 9,
   "metadata": {},
   "outputs": [
    {
     "name": "stdout",
     "output_type": "stream",
     "text": [
      "[2024-07-03 10:43:35,348.348] tracer.py [line:128] INFO [main-11979213951129662158] OTLPSpanExporter endpoint: http://localhost:8080/v1/traces\n"
     ]
    }
   ],
   "source": [
    "from appbuilder.utils.trace.tracer import AppBuilderTracer\n",
    "tracer=AppBuilderTracer(\n",
    "    enable_phoenix = True,\n",
    "    enable_console = True,\n",
    "    )"
   ]
  },
  {
   "cell_type": "markdown",
   "metadata": {},
   "source": [
    "- enable_phoenix:是否启动phoenix可视化跟踪\n",
    "- enable_console:是否将trace信息反馈到控制台"
   ]
  },
  {
   "cell_type": "code",
   "execution_count": null,
   "metadata": {},
   "outputs": [],
   "source": [
    "# 启动trace \n",
    "import os\n",
    "import appbuilder\n",
    "\n",
    "tracer.start_trace()\n",
    "\n",
    "# 这里将APPBUILDER_TOKEN与app_id更换为你的APPBUILDER_TOKEN和app_id\n",
    "os.environ[\"APPBUILDER_TOKEN\"] = \"YOUR_APPBUILDER_TOKEN\"\n",
    "app_id = \"YOUR_APP_ID\"\n",
    "\n",
    "builder = appbuilder.AppBuilderClient(app_id)\n",
    "conversation_id = builder.create_conversation()\n",
    "msg = builder.run(conversation_id=conversation_id, query=\"你可以做什么？\",stream=True)\n",
    "\n",
    "for m in msg.content:\n",
    "    print(m)\n",
    "\n",
    "# 结束trace\n",
    "tracer.end_trace()"
   ]
  }
 ],
 "metadata": {
  "kernelspec": {
   "display_name": "Python 3",
   "language": "python",
   "name": "python3"
  },
  "language_info": {
   "codemirror_mode": {
    "name": "ipython",
    "version": 3
   },
   "file_extension": ".py",
   "mimetype": "text/x-python",
   "name": "python",
   "nbconvert_exporter": "python",
   "pygments_lexer": "ipython3",
   "version": "3.9.12"
  }
 },
 "nbformat": 4,
 "nbformat_minor": 2
}
